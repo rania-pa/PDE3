{
 "cells": [
  {
   "cell_type": "markdown",
   "id": "fc2d1a30",
   "metadata": {},
   "source": [
    "# Writing LaTeX in Jupyter Notebook\n",
    "\n",
    "Apart from regular cells in a jupyter notebook that we write Python code, we can also add text and expressions. To add text in a jupyter notebook, that is not Python code, you need to convert the cell to markdown. To see and edit a markdown cell, simply double-click on it.\n",
    "\n",
    "Simple text (as in this cell) can be written as normal. The formatting of the text and adding equations in a markdown cell is mostly done using LaTeX code. "
   ]
  },
  {
   "cell_type": "markdown",
   "id": "03d5be4e",
   "metadata": {},
   "source": [
    "## Equations\n",
    "\n",
    "- An in-line equation can be added in a notebook inside single dollar symbols \\\\$ \\\\$. For adding an equation in a new line, double dollar sumbols can be used to enclose the equation \\\\$\\\\$ \\\\$\\\\$. See examples below (double-click the cell below to see LaTeX code)."
   ]
  },
  {
   "cell_type": "markdown",
   "id": "f31c4d6f",
   "metadata": {},
   "source": [
    "This is an in-line equation $y = ax$.\n",
    "\n",
    "This is an equation in a new line:\n",
    "$$ y=ax $$"
   ]
  },
  {
   "cell_type": "markdown",
   "id": "58ba76f7",
   "metadata": {},
   "source": [
    "- All fractions, derivatives, integrals, subscripts, superscripts and others need to be enclosed in single or double dollar symbols that represent equations / expressions. \n",
    "- Inside the dollar symbols, many operators (such as +, -, =, * etc.) and letters (such as y, x, t etc.)  can be written as normal but for others we need to use special LaTeX commands. \n",
    "- An equation can also be written inside a \\\\begin{align} and \\\\end{align} environment, which also supports multiple aligned equations. "
   ]
  },
  {
   "cell_type": "markdown",
   "id": "12d732ed",
   "metadata": {},
   "source": [
    "## Subscripts and superscripts\n",
    "\n",
    "- A subscript in a markdown cell can be added using the underscore character as u\\_i and enclosing all the characters in dollar symbols as \\\\$u\\_i\\\\$. If multiple subscripts need to be used, these need to be enclosed in curly brackets {} as \\\\$u\\_{ij}\\\\$. See the two examples on the cell below (double-click to see LaTeX code)"
   ]
  },
  {
   "cell_type": "markdown",
   "id": "45fe5410",
   "metadata": {},
   "source": [
    "One subscript: $u_i$ \n",
    "\n",
    "Two subscripts: $u_{ij}$"
   ]
  },
  {
   "cell_type": "markdown",
   "id": "4e6a995f",
   "metadata": {},
   "source": [
    "- A superscript in a markdown cell can be added using the ^ character as u\\^t and enclosing all the characters in dollar symbols as \\\\$u\\^t\\\\$. If multiple superscripts need to be used, these need to be enclosed in curly brackets {} as \\\\$u\\^{t+1}\\\\$. See the two examples on the cell below (double-click to see LaTeX code)"
   ]
  },
  {
   "cell_type": "markdown",
   "id": "53760a31",
   "metadata": {},
   "source": [
    "One superscript: $u^t$ \n",
    "\n",
    "More supercripts: $u^{t+1}$"
   ]
  },
  {
   "cell_type": "markdown",
   "id": "7a40e4fc",
   "metadata": {},
   "source": [
    "To add both a subscript and a superscript we use \\\\$\\\\$ u\\_{subscript}\\^{superscript} \\\\$\\\\$. For example \\\\$\\\\$ u\\_{i,j}\\^{t+1} \\\\$\\\\$ produces:"
   ]
  },
  {
   "cell_type": "markdown",
   "id": "2cb8114c",
   "metadata": {},
   "source": [
    "$$ u_{i,j}^{t+1} $$"
   ]
  },
  {
   "cell_type": "markdown",
   "id": "c28e67f5",
   "metadata": {},
   "source": [
    "## Greek letters \n",
    "\n",
    "To add Greek letter kappa (to represent e.g. the thermal diffusivity), you can use \\\\$\\\\kappa\\\\$. For greek letter alpha, you can use \\\\$\\\\alpha\\\\$. And similarly for other letters. See examples below."
   ]
  },
  {
   "cell_type": "markdown",
   "id": "2c118b0e",
   "metadata": {},
   "source": [
    "$\\kappa$, $\\alpha$"
   ]
  },
  {
   "cell_type": "markdown",
   "id": "082b092a",
   "metadata": {},
   "source": [
    "More Greek letters and math symbols can be found here:\n",
    "\n",
    "https://www.overleaf.com/learn/latex/List_of_Greek_letters_and_math_symbols"
   ]
  },
  {
   "cell_type": "markdown",
   "id": "6dc4a905",
   "metadata": {},
   "source": [
    "## Fractions\n",
    "\n",
    "A fraction can be added by using the \\\\frac{}{} command enclosed in dollar symbols. Inside the first curly bracket {}, we write the numerator and in the second curly bracket, we write the denominator, e.g. \\\\$\\\\$\\\\frac{3}{4}\\\\$\\\\$"
   ]
  },
  {
   "cell_type": "markdown",
   "id": "4629260a",
   "metadata": {},
   "source": [
    "$$x = \\frac{3}{4}$$"
   ]
  },
  {
   "cell_type": "markdown",
   "id": "29f0be4b",
   "metadata": {},
   "source": [
    "## Derivatives and integrals\n",
    "\n",
    "A derivative can be added by utilising \\\\fraction and \\\\partial (which represents the partial derivative symbol) enclosed in an expression. For example, a derivative of u(x,y) with respect to x can be written as:  \\\\$\\\\frac{\\\\partial u(x,y)}{\\\\partial t}\\\\$. Double-click example below"
   ]
  },
  {
   "cell_type": "markdown",
   "id": "6c0a191b",
   "metadata": {},
   "source": [
    "$$\\frac{\\partial u(x,y)}{\\partial t}$$"
   ]
  },
  {
   "cell_type": "markdown",
   "id": "a26113b5",
   "metadata": {},
   "source": [
    "An integral can be added by utilising \\\\int and superscript to add the upper limit and subscript to add the lower limit of the integral and all enclosed in expression as \\\\$\\\\$ \\\\int\\_{0}\\^{5} \\\\$\\\\$."
   ]
  },
  {
   "cell_type": "markdown",
   "id": "22913faa",
   "metadata": {},
   "source": [
    "$$\\int_{0}^{5} f(x) dx$$"
   ]
  },
  {
   "cell_type": "markdown",
   "id": "93c35c1a",
   "metadata": {},
   "source": [
    "## Sum and product symbols\n",
    "\n",
    "To add the big sigma symbol that denotes a sum, we can use \\\\$\\\\$\\\\sum_{lower}^{upper}\\\\$\\\\$, where in the first curly bracket {}, we write the lower limit and in the second curly bracket the upper limit."
   ]
  },
  {
   "cell_type": "markdown",
   "id": "d57089ba",
   "metadata": {},
   "source": [
    "$$\\sum_{i = 0}^{20} i \\\\ \\sum_{n = 0}^{\\infty} n$$"
   ]
  },
  {
   "cell_type": "markdown",
   "id": "9e472174",
   "metadata": {},
   "source": [
    "To move the second equation to the next line, \\\\\\ has been added after the first equation. To add horizontal space between equations in the same line \\\\quad can be used, e.g."
   ]
  },
  {
   "cell_type": "markdown",
   "id": "8fac3f44",
   "metadata": {},
   "source": [
    "$$\\sum_{i = 0}^{20} i \\quad,\\quad \\sum_{n = 0}^{\\infty} n$$"
   ]
  },
  {
   "cell_type": "markdown",
   "id": "63b1903f",
   "metadata": {},
   "source": [
    "Similarly to add a product, we use \\\\$\\\\$\\\\prod\\_{i=a}\\^{b} i\\\\$\\\\$."
   ]
  },
  {
   "cell_type": "markdown",
   "id": "f993ded4",
   "metadata": {},
   "source": [
    "$$\\prod_{i=a}^{b} i$$"
   ]
  },
  {
   "cell_type": "markdown",
   "id": "c147ce7b",
   "metadata": {},
   "source": [
    "## Trigonometric functions\n",
    "\n",
    "Trigonometric functions can be added by using \\\\sin, \\\\cos, \\\\cosh etc. commands enclosed in an expression as \\\\$\\\\$ \\\\sin(x) \\\\$\\\\$"
   ]
  },
  {
   "cell_type": "markdown",
   "id": "7b6e7fe6",
   "metadata": {},
   "source": [
    "$$ \\sin(x), \\cos(x) $$"
   ]
  },
  {
   "cell_type": "markdown",
   "id": "00a1ab3f",
   "metadata": {},
   "source": [
    "More LaTeX commands for trigonometric functions and other operators can be found here:\n",
    "\n",
    "https://www.overleaf.com/learn/latex/Operators"
   ]
  },
  {
   "cell_type": "markdown",
   "id": "a2310d6a",
   "metadata": {},
   "source": [
    "## Inequality - equality symbols\n",
    "\n",
    "All enclosed in dollar symbols:\n",
    "- Equal: =\n",
    "- Less than: <\n",
    "- Greater than: >\n",
    "- Less or equal than: \\\\leq \n",
    "- Greater or equal than: \\\\geq\n",
    "- Not equal: \\\\neq\n",
    "- Approximate: \\\\approx\n"
   ]
  },
  {
   "cell_type": "markdown",
   "id": "e42d2c67",
   "metadata": {},
   "source": [
    "$$ u = 2 \\\\ x \\leq 5 \\\\ 0\\leq y\\leq 5 $$"
   ]
  },
  {
   "cell_type": "markdown",
   "id": "81dcf56d",
   "metadata": {},
   "source": [
    "## Other useful (Double-click to see LaTeX code)\n",
    "\n",
    "- Square root: $\\sqrt3$\n",
    "- Exponential: $\\exp(x)$\n",
    "- Pi symbol: $\\pi$\n",
    "- Infinity symbol: $\\infty$\n",
    "- Right arrow: $\\Rightarrow$\n",
    "- For all symbol: $\\forall$\n",
    "- Hat above variable: $\\hat{x}$\n",
    "- Delta symbol: $\\Delta t$"
   ]
  }
 ],
 "metadata": {
  "kernelspec": {
   "display_name": "Python 3 (ipykernel)",
   "language": "python",
   "name": "python3"
  },
  "language_info": {
   "codemirror_mode": {
    "name": "ipython",
    "version": 3
   },
   "file_extension": ".py",
   "mimetype": "text/x-python",
   "name": "python",
   "nbconvert_exporter": "python",
   "pygments_lexer": "ipython3",
   "version": "3.9.13"
  }
 },
 "nbformat": 4,
 "nbformat_minor": 5
}
