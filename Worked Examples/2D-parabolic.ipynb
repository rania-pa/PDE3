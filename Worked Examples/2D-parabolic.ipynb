{
 "cells": [
  {
   "cell_type": "markdown",
   "id": "f3c0ceb4-9ab6-4e51-bc88-07a537741dad",
   "metadata": {},
   "source": [
    "# 2D parabolic solvers\n",
    "This workbook uses opperator splitting to compute the solution of a two dimensional parabolic problem.\n",
    "\n",
    "$$\\frac{\\partial u}{\\partial t} = \\kappa\\frac{\\partial^2 u}{\\partial x^2}+\\kappa\\frac{\\partial^2 u}{\\partial y^2}.$$\n",
    "\n",
    "The equation is split into two one-dimensional opperators $L_x(\\Delta t)$ and $L_y(\\Delta t)$ which are then used in a factored sequence to obtain the solution at the new time level, i.e.,\n",
    "\n",
    "$$u^{n+1}_{ij}=L_x(\\Delta t)\\cdot L_y(\\Delta t)\\cdot u^n_{ij}$$\n",
    "\n",
    "This has the advantage that we can use our one dimenional method\n",
    "\n",
    "We are going to use the grid class from the BiCGStab workbook to generate the grid for this solver.  We need to add an additional variable (time) to the object and ensure that this is zero when the grid is created. <code>self.time</code> will be needed by the boundary condition routines.  The class also includes <code>self.kappa</code> which is used to store the thermal diffusivity."
   ]
  },
  {
   "cell_type": "code",
   "execution_count": 64,
   "id": "24be2704-d717-40d9-a7e0-330dd5c6b4b5",
   "metadata": {
    "tags": []
   },
   "outputs": [],
   "source": [
    "import numpy as np\n",
    "import matplotlib.pyplot as plt\n",
    "import time\n",
    "\n",
    "class Grid:\n",
    "    '''Class defining a 2D computational grid.  The grid object\n",
    "    contains is a regular cartesian grid with a single variable, u.\n",
    "    It stores information about the number of grid points in the i\n",
    "    and j directions, the ordinates of these points and the bottom\n",
    "    left corner of the gird (the origin) and the top right corner\n",
    "    (the extent).\n",
    "    \n",
    "    Written by Prof David Ingram, School of Engineering\n",
    "    (c) 2022 The University of Edinburgh\n",
    "    Licensed under CC-BY-NC.'''\n",
    "    \n",
    "    DIRICHLET_BC = 0\n",
    "    NEUMANN_BC = 1\n",
    "\n",
    "    BC_NAME = ['left', 'right', 'top', 'bottom']\n",
    "    \n",
    "    def __init__(self,ni,nj):\n",
    "        # set up information about the grid\n",
    "        self.origin = (0.0, 0.0)  # bottom left\n",
    "        self.extent = (1.0, 1.0)  # top right\n",
    "        self.Ni = ni # grid points in i direction\n",
    "        self.Nj = nj # grid points in j direction\n",
    "        \n",
    "        # initialse x,y and u arrays\n",
    "        self.u = np.zeros((nj, ni))\n",
    "        self.x = np.zeros((nj, ni))\n",
    "        self.y = np.zeros((nj, ni))\n",
    "        \n",
    "        # boundary conditions (left right top and bottom)\n",
    "        self.BC = [self.DIRICHLET_BC, self.DIRICHLET_BC, \n",
    "                   self.DIRICHLET_BC, self.DIRICHLET_BC]\n",
    "        \n",
    "        # set the time\n",
    "        self.time = 0.0\n",
    "        self.kappa = 1.0\n",
    "\n",
    "    def set_origin(self,x0,y0):\n",
    "        self.origin = (x0, y0)\n",
    "    \n",
    "    def set_extent(self,width,height):\n",
    "        self.extent = (width, height)\n",
    "        \n",
    "    def generate(self,Quiet=True):\n",
    "        '''generate a uniformly spaced grid covering the domain from the\n",
    "        origin to the extent.  We are going to do this using linspace from\n",
    "        numpy to create lists of x and y ordinates and then the meshgrid\n",
    "        function to turn these into 2D arrays of grid point ordinates.'''\n",
    "        x_ord = np.linspace(self.origin[0], self.origin[0]+self.extent[0], self.Ni)\n",
    "        y_ord = np.linspace(self.origin[1], self.origin[1]+self.extent[1], self.Nj)\n",
    "        self.x, self.y = np.meshgrid(x_ord,y_ord)\n",
    "        if not Quiet:\n",
    "            print(self)\n",
    "\n",
    "    def set_diffusivity(self,k):\n",
    "        self.kappa = k\n",
    "        \n",
    "    def Delta_x(self):\n",
    "        # calculate delta x\n",
    "        return self.x[0,1]-self.x[0,0]\n",
    "    \n",
    "    def Delta_y(self):\n",
    "        # calculate delta y\n",
    "        return self.y[1,0]-self.y[0,0]\n",
    "    \n",
    "    def find(self,point):\n",
    "        '''find the i and j ordinates of the grid cell which contains \n",
    "        the point (x,y).  To do this we calculate the distance from\n",
    "        the point to the origin in the x and y directions and then\n",
    "        divide this by delta x and delta y.  The resulting real ordinates\n",
    "        are converted to indices using the int() function.'''\n",
    "        grid_x = (point[0] - self.origin[0])/self.Delta_x()\n",
    "        grid_y = (point[1] - self.origin[1])/self.Delta_y()\n",
    "        return int(grid_x), int(grid_y)\n",
    "    \n",
    "    def set_Neumann_bc(self,side):\n",
    "        try:\n",
    "             self.BC[self.BC_NAME.index(side)] = self.NEUMANN_BC\n",
    "        except:\n",
    "             print('error {} must be one of {}'.format(side,self.BC_NAME))\n",
    "     \n",
    "    def set_Dirichlet_bc(self,side):\n",
    "        try:\n",
    "            self.BC[self.BC_NAME.index(side)] = self.DIRICHLET_BC\n",
    "        except:\n",
    "            print('error {} must be one of {}'.format(side,self.BC_NAME))\n",
    "    \n",
    "    def plot(self,title):\n",
    "        '''produce a contour plot of the solutionat the current time'''\n",
    "        \n",
    "        # create a title\n",
    "        caption = f'{title}, t={self.time}s ({self.Ni} x {self.Nj}) grid.'\n",
    "        fig, ax1 = plt.subplots()\n",
    "        \n",
    "        # draw the plot\n",
    "        cmap = plt.get_cmap('jet')\n",
    "        cf = ax1.contourf(test.x,test.y,test.u,cmap=cmap, levels = 21)\n",
    "        fig.colorbar(cf, ax=ax1)\n",
    "        ax1.set_title(caption)\n",
    "        return plt\n",
    "\n",
    "     \n",
    "    def report_BC(self):\n",
    "        '''compile a string listing the boundary conditions on each side.\n",
    "        We build up a string of four {side name}: {BC type} pairs and\n",
    "        return it'''\n",
    "        \n",
    "        # initialise the string\n",
    "        string = ''\n",
    "        \n",
    "        # loop over the sides\n",
    "        for side in range(4):\n",
    "            # add the side name\n",
    "            string = string + self.BC_NAME[side]\n",
    "            # and the bounday condition type\n",
    "            if self.BC[side] == self.DIRICHLET_BC:\n",
    "                string = string + ': Dirichlet, '\n",
    "            elif self.BC[side] == self.NEUMANN_BC:\n",
    "                string = string + ': Neumann, '\n",
    "        return string[:-2] +'.' # lose the last comma and space.\n",
    "    \n",
    "    def __str__(self):\n",
    "        # describe the object when asked to print it\n",
    "        describe = 'Uniform {}x{} grid from {} to {}.'.format(self.Ni, self.Nj, self.origin, self.extent)\n",
    "        boundaries = self.report_BC()\n",
    "        return describe + '\\nBoundaries conditions are - ' + boundaries"
   ]
  },
  {
   "cell_type": "code",
   "execution_count": 65,
   "id": "8a48913e-0c9e-4fa2-b260-d59943edfd8e",
   "metadata": {
    "tags": []
   },
   "outputs": [
    {
     "name": "stdout",
     "output_type": "stream",
     "text": [
      "Uniform 101x101 grid from (0.0, 0.0) to (2.0, 2.0).\n",
      "Boundaries conditions are - left: Dirichlet, right: Dirichlet, top: Dirichlet, bottom: Dirichlet.\n"
     ]
    },
    {
     "data": {
      "text/plain": [
       "<module 'matplotlib.pyplot' from '/usr/local/lib/python3.9/site-packages/matplotlib/pyplot.py'>"
      ]
     },
     "execution_count": 65,
     "metadata": {},
     "output_type": "execute_result"
    },
    {
     "data": {
      "image/png": "[encoded data removed]",
      "text/plain": [
       "<Figure size 432x288 with 2 Axes>"
      ]
     },
     "metadata": {
      "needs_background": "light"
     },
     "output_type": "display_data"
    }
   ],
   "source": [
    "# set up the test problem\n",
    "def thermal_plate(ni,nj):\n",
    "    mesh = Grid(ni, nj)\n",
    "    mesh.set_extent(2.0, 2.0)\n",
    "    mesh.generate()\n",
    "    mesh.set_diffusivity(1.172e-5)\n",
    "    \n",
    "    # now set the initial conditions\n",
    "    mesh.u[:,:] = 273.0\n",
    "    \n",
    "    # and apply heat to the boundaries\n",
    "    mesh.u[0,:] = 500.0\n",
    "    mesh.u[:,0] = 500.0\n",
    "    return mesh\n",
    "\n",
    "test = thermal_plate(101, 101)\n",
    "print(test)\n",
    "test.plot('Thermal plate')"
   ]
  },
  {
   "cell_type": "code",
   "execution_count": 66,
   "id": "d5fca2ef-5ee2-4a1f-af47-b99264816937",
   "metadata": {},
   "outputs": [],
   "source": [
    "def apply_boundary_conditions(mesh):\n",
    "    ''' apply BC, for time dependent BC the mesh.time should\n",
    "    be used.'''\n",
    "    \n",
    "    mesh.u[0,:] = 500.0\n",
    "    mesh.u[:,0] = 500.0\n",
    "\n",
    "def L_x(mesh, dt):\n",
    "    '''One dimensional opperator in the x-direction.'''\n",
    "    beta = mesh.kappa*dt/mesh.Delta_x()**2\n",
    "    u = mesh.u.copy()\n",
    "    mesh.u[1:-1,1:-1] = u[1:-1,1:-1] \\\n",
    "    + beta * (u[1:-1,0:-2]-2*u[1:-1,1:-1]+u[1:-1,2:])\n",
    "    \n",
    "def L_y(mesh, dt):\n",
    "    '''One dimensional opperator in the y-direction.'''\n",
    "    beta = mesh.kappa*dt/mesh.Delta_y()**2\n",
    "    u = mesh.u.copy()\n",
    "    mesh.u[1:-1,1:-1] = u[1:-1,1:-1] \\\n",
    "    + beta * (u[0:-2,1:-1]-2*u[1:-1,1:-1]+u[2:,1:-1])\n",
    "\n",
    "    \n",
    "def operator_split(mesh, t_stop, nu=0.95):\n",
    "    ''' 2D operator split explicit time marching method.\n",
    "    The function useds the Lx an Ly opperators on the\n",
    "    specified mesh.  time step is calculated using the\n",
    "    specified value of the courant number, nu. and the\n",
    "    solution is advanced until t_stop is reached.\n",
    "    '''\n",
    "\n",
    "    # calculate the time step\n",
    "    delta_t =0.95 * min(mesh.Delta_x()**2/(2*mesh.kappa),\n",
    "                        mesh.Delta_y()**2/(2*mesh.kappa))\n",
    "    print('time marching with dt={:.3f}'.format(delta_t))\n",
    "    \n",
    "    #calcumate the maximum number of itterations\n",
    "    maxit = int(np.ceil(t_stop/delta_t))+1\n",
    "    check = maxit // 20\n",
    "    for it in range(maxit):\n",
    "        # check time step\n",
    "        delta_t=min(delta_t, t_stop-mesh.time)\n",
    "        \n",
    "        # solver\n",
    "        apply_boundary_conditions(mesh)\n",
    "        L_y(mesh, delta_t)\n",
    "        L_x(mesh, delta_t)\n",
    "        mesh.time += delta_t\n",
    "        \n",
    "        # progress\n",
    "        if it % check == 0 :\n",
    "            print('#', end='')\n",
    "            \n",
    "    print(f'\\n Completed in {it} time steps.')"
   ]
  },
  {
   "cell_type": "code",
   "execution_count": 67,
   "id": "fd467ea9-44fd-4953-914e-424c033ae994",
   "metadata": {},
   "outputs": [
    {
     "name": "stdout",
     "output_type": "stream",
     "text": [
      "time marching with dt=4.053\n",
      "#####################\n",
      " Completed in 889 time steps.\n",
      "Solver took 0.462 seconds.\n"
     ]
    },
    {
     "data": {
      "image/png": "[encoded data removed]",
      "text/plain": [
       "<Figure size 432x288 with 2 Axes>"
      ]
     },
     "metadata": {
      "needs_background": "light"
     },
     "output_type": "display_data"
    }
   ],
   "source": [
    "test = thermal_plate(201, 201)\n",
    "\n",
    "start = time.process_time()\n",
    "operator_split(test,3600)\n",
    "stop = time.process_time()\n",
    "print(\"Solver took {:.3g} seconds.\".format(stop-start))\n",
    "\n",
    "plt = test.plot('Thermal plate')\n",
    "plt.savefig('thermal_plate.pdf')"
   ]
  },
  {
   "cell_type": "code",
   "execution_count": null,
   "id": "21cd25e4-47a8-4482-a305-06ec3fbf0f90",
   "metadata": {},
   "outputs": [],
   "source": []
  }
 ],
 "metadata": {
  "kernelspec": {
   "display_name": "Python 3 (ipykernel)",
   "language": "python",
   "name": "python3"
  },
  "language_info": {
   "codemirror_mode": {
    "name": "ipython",
    "version": 3
   },
   "file_extension": ".py",
   "mimetype": "text/x-python",
   "name": "python",
   "nbconvert_exporter": "python",
   "pygments_lexer": "ipython3",
   "version": "3.9.10"
  }
 },
 "nbformat": 4,
 "nbformat_minor": 5
}
