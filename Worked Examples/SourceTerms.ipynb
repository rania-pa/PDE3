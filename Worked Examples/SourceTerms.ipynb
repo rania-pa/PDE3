{
 "cells": [
  {
   "cell_type": "markdown",
   "id": "worse-harmony",
   "metadata": {
    "tags": []
   },
   "source": [
    "# Source Terms\n",
    "## The Poisson Equation\n",
    "\n",
    "Now that we have a fast efficient solver for the Laplace equation, we can start to consider the non-homogeneous case:\n",
    "\n",
    "$$\\nabla^2 u=f(x,y).$$\n",
    "\n",
    "Which is know as the Poisson equation.  It is named after the French physisit Baron Siméon Denis Poisson, FRS FRSE.  Who is suposed to have said \"Life is good for only two things: doing mathematics and teaching it.\"\n",
    "\n",
    "There are many situations in which we want to solve this equation and the good news is that we can use the methods we developed for solving the Laplace equation,\n",
    "\n",
    "$$\\nabla^2 u=0,$$\n",
    "\n",
    "by making appropriate changes to the RHS vector __b__.\n",
    "\n",
    "## Deflection of a rubber sheet\n",
    "\n",
    "We are going to consider the deformation of a two dimensional rubber sheet subjected to a point load. The governing equation is\n",
    "\n",
    "$$-T\\nabla^2D = p$$\n",
    "\n",
    "where D(x,y) is the deflection of the sheet, T is the (constant) tension and p(x,y) is the applied load. At the boundary of the sheet D=0. The local load is given by\n",
    "\n",
    "$$p(x,y)=\\frac{A}{2\\pi\\sigma}\\exp(−\\frac{1}{2}\\left(\\frac{x−x0}{\\sigma}\\right)^2−\\frac{1}{2}\\left(\\frac{y−y0}{\\sigma}\\right)^2).$$\n",
    "\n",
    "The parameter A is the amplitude of the pressure applied at the point (x0,y0). The parameter σ represents the “width” of the applied load.\n",
    "\n",
    "## The Grid Class (with a RHS)\n",
    "We are going to modify the Grid class so that a grid also contains values of the RHS function <code>f(x,y)</code>.\n"
   ]
  },
  {
   "cell_type": "code",
   "execution_count": 1,
   "id": "heard-stock",
   "metadata": {
    "tags": []
   },
   "outputs": [],
   "source": [
    "import numpy as np\n",
    "import matplotlib.pyplot as plt\n",
    "import time\n",
    "\n",
    "class Grid:\n",
    "    '''Class defining a 2D computational grid.  The grid object\n",
    "    contains is a regular cartesian grid with a single variable, u.\n",
    "    It stores information about the number of grid points in the i\n",
    "    and j directions, the ordinates of these points and the bottom\n",
    "    left corner of the gird (the origin) and the top right corner\n",
    "    (the extent).\n",
    "    \n",
    "    Written by Prof David Ingram, School of Engineering\n",
    "    (c) 2021 The University of Edinburgh\n",
    "    Licensed under CC-BY-NC.'''\n",
    "    \n",
    "    DIRICHLET_BC = 0\n",
    "    NEUMANN_BC = 1\n",
    "\n",
    "    BC_NAME = ['left', 'right', 'top', 'bottom']\n",
    "    \n",
    "    def __init__(self,ni,nj):\n",
    "        # set up information about the grid\n",
    "        self.origin = (0.0, 0.0)  # bottom left\n",
    "        self.extent = (1.0, 1.0)  # top right\n",
    "        self.Ni = ni # grid points in i direction\n",
    "        self.Nj = nj # grid points in j direction\n",
    "        \n",
    "        # initialse x,y and u arrays\n",
    "        self.u = np.zeros((nj, ni))\n",
    "        self.x = np.zeros((nj, ni))\n",
    "        self.y = np.zeros((nj, ni))\n",
    "        # and the f values for the RHS of the equation\n",
    "        self.f = np.zeros((nj, ni))\n",
    "        \n",
    "        # boundary conditions (left right top and bottom)\n",
    "        self.BC = [self.DIRICHLET_BC, self.DIRICHLET_BC, \n",
    "                   self.DIRICHLET_BC, self.DIRICHLET_BC]\n",
    "\n",
    "    def set_origin(self,x0,y0):\n",
    "        self.origin = (x0, y0)\n",
    "    \n",
    "    def set_extent(self,x1,y1):\n",
    "        self.extent = (x1, y1)\n",
    "        \n",
    "    def generate(self,Quiet=True):\n",
    "        '''generate a uniformly spaced grid covering the domain from the\n",
    "        origin to the extent.  We are going to do this using linspace from\n",
    "        numpy to create lists of x and y ordinates and then the meshgrid\n",
    "        function to turn these into 2D arrays of grid point ordinates.'''\n",
    "        x_ord = np.linspace(self.origin[0], self.extent[0], self.Ni)\n",
    "        y_ord = np.linspace(self.origin[1], self.extent[1], self.Nj)\n",
    "        self.x, self.y = np.meshgrid(x_ord,y_ord)\n",
    "        if not Quiet:\n",
    "            print(self)\n",
    "\n",
    "    def Delta_x(self):\n",
    "        # calculate delta x\n",
    "        return self.x[0,1]-self.x[0,0]\n",
    "    \n",
    "    def Delta_y(self):\n",
    "        # calculate delta y\n",
    "        return self.y[1,0]-self.y[0,0]\n",
    "    \n",
    "    def find(self,point):\n",
    "        '''find the i and j ordinates of the grid cell which contains \n",
    "        the point (x,y).  To do this we calculate the distance from\n",
    "        the point to the origin in the x and y directions and then\n",
    "        divide this by delta x and delta y.  The resulting real ordinates\n",
    "        are converted to indices using the int() function.'''\n",
    "        grid_x = (point[0] - self.origin[0])/self.Delta_x()\n",
    "        grid_y = (point[1] - self.origin[1])/self.Delta_y()\n",
    "        return int(grid_x), int(grid_y)\n",
    "    \n",
    "    def set_Neumann_bc(self,side):\n",
    "        try:\n",
    "             self.BC[self.BC_NAME.index(side)] = self.NEUMANN_BC\n",
    "        except:\n",
    "             print('error {} must be one of {}'.format(side,self.BC_NAME))\n",
    "     \n",
    "    def set_Dirichlet_bc(self,side):\n",
    "        try:\n",
    "            self.BC[self.BC_NAME.index(side)] = self.DIRICHLET_BC\n",
    "        except:\n",
    "            print('error {} must be one of {}'.format(side,self.BC_NAME))\n",
    "            \n",
    "    def set_RHS_values(self,func):\n",
    "        '''fill in the RHS values based on the x and y of each grid point.\n",
    "        The user defined function func is called with the x and y arrays.'''\n",
    "        self.f=func(self.x,self.y)\n",
    "    \n",
    "    def report_BC(self):\n",
    "        '''compile a string listing the boundary conditions on each side.\n",
    "        We build up a string of four {side name}: {BC type} pairs and\n",
    "        return it'''\n",
    "        \n",
    "        # initialise the string\n",
    "        string = ''\n",
    "        \n",
    "        # loop over the sides\n",
    "        for side in range(4):\n",
    "            # add the side name\n",
    "            string = string + self.BC_NAME[side]\n",
    "            # and the bounday condition type\n",
    "            if self.BC[side] == self.DIRICHLET_BC:\n",
    "                string = string + ': Dirichlet, '\n",
    "            elif self.BC[side] == self.NEUMANN_BC:\n",
    "                string = string + ': Neumann, '\n",
    "        return string[:-2] +'.' # lose the last comma and space.\n",
    "    \n",
    "    def __str__(self):\n",
    "        # describe the object when asked to print it\n",
    "        describe = 'Uniform {}x{} grid from {} to {}.'.format(self.Ni, self.Nj, self.origin, self.extent)\n",
    "        boundaries = self.report_BC()\n",
    "        return describe + '\\nBoundaries conditions are - ' + boundaries"
   ]
  },
  {
   "cell_type": "markdown",
   "id": "49e71067-7615-4645-9549-b7c8406e2a5f",
   "metadata": {},
   "source": [
    "## Test problem\n",
    "\n",
    "We can simplify things by introducing dimensionless coordinates _x_<sup>*</sup>=_x/R_ and  _y_<sup>*</sup>=_y/R_.  We can make the deflection a dimensionless quantity _w_=_D_/_D_<sub>c</sub>, where _D_<sub>c</sub> is the characteristic size of the deflection.  Placing the location at which the force is applied at a point (0, _R_<sup>*</sup>) we obtain\n",
    "\n",
    "$$\\frac{\\partial^2 w}{\\partial x^2}+\\frac{\\partial^2 w}{\\partial y^2}=-\\alpha\\exp\\left[-\\beta^2\\left(x^2+(y-R^*)^2\\right)\\right].$$\n",
    "\n",
    "were\n",
    "$$\\alpha = \\frac{R^2A}{2\\pi TD_c\\sigma}\\ \\mathrm{and}\\ \\beta=\\frac{R}{\\sqrt{2}\\sigma}.$$\n",
    "\n",
    "Choosing ⍺=4.0, β=8.0 and _R_<sup>*</sup>=0.6 and solving over the domain _x_<sup>*</sup>, _y_<sup>*</sup> ∈ [-1, 1]. Gives us our test problem.\n"
   ]
  },
  {
   "cell_type": "code",
   "execution_count": 2,
   "id": "22568f5e-4e69-4c81-8a78-66646f67def1",
   "metadata": {},
   "outputs": [
    {
     "name": "stdout",
     "output_type": "stream",
     "text": [
      "Uniform 61x61 grid from (-1.0, -1.0) to (1.0, 1.0).\n",
      "Boundaries conditions are - left: Dirichlet, right: Dirichlet, top: Dirichlet, bottom: Dirichlet.\n"
     ]
    },
    {
     "data": {
      "image/png": "[encoded data removed]",
      "text/plain": [
       "<Figure size 432x288 with 2 Axes>"
      ]
     },
     "metadata": {
      "needs_background": "light"
     },
     "output_type": "display_data"
    }
   ],
   "source": [
    "def pressure(x,y):\n",
    "    '''calculate the pressure at the points (x,y) using the rubber sheet\n",
    "    test problem equation \n",
    "    $$p = -\\alpha\\exp\\left[-\\beta^2\\left(x^2+(y-R^*)^2\\right)\\right]$$\n",
    "    with beta = 8, R*=0.6 and alpha=4.0.\n",
    "    '''\n",
    "    beta = 8.0\n",
    "    alpha= 4.0\n",
    "    R_star = 0.6\n",
    "    return alpha*np.exp(-beta**2*(x**2+(y-R_star)**2))\n",
    "\n",
    "def DeflectionTest(ni,nj):\n",
    "    # set up a mesh\n",
    "    mesh = Grid(ni,nj)\n",
    "    mesh.set_origin(-1.0,-1.0)\n",
    "    mesh.set_extent(1.0,1.0)\n",
    "    mesh.generate()\n",
    "    # mesh objects defaults to Dirichlet BC on all sides.\n",
    "    mesh.u[:,:]=0.0\n",
    "    # calculate the RHS\n",
    "    mesh.set_RHS_values(pressure)\n",
    "    return mesh\n",
    "\n",
    "test = DeflectionTest(61,61)\n",
    "print(test)\n",
    "\n",
    "fig, ax1 = plt.subplots()\n",
    "ax1.set_aspect('equal')\n",
    "cmap = plt.get_cmap('jet')\n",
    "cf = ax1.contourf(test.x,test.y,test.f,cmap=cmap,levels = 21)\n",
    "fig.colorbar(cf, ax=ax1)\n",
    "ax1.set_title(f'Pressure feild for the deflection test ({test.Ni} x {test.Nj} grid)')\n",
    "plt.show()\n"
   ]
  },
  {
   "cell_type": "markdown",
   "id": "musical-wrestling",
   "metadata": {},
   "source": [
    "## Poisson Solver\n",
    "\n",
    "We start with the Laplace solver from the last worksheet. This is using the bi-conjugate gradient solver with the incomplete LU factorisation as a pre-condiioer.\n",
    "\n",
    "The key change here is to adjust the calculation of the RHS vector __b__ so that it the value of the function _f_ is added to each of the _b_<sub></sub> values.  We need to multiply the value of _f_ by Δx and Δy so that the contibution is scaled properly.  To see why derive the finite difference approximation for the Poisson equation!\n"
   ]
  },
  {
   "cell_type": "code",
   "execution_count": 3,
   "id": "inclusive-overhead",
   "metadata": {},
   "outputs": [],
   "source": [
    "import scipy.sparse.linalg as LA\n",
    "import scipy.sparse as sps\n",
    "\n",
    "def PoissonSolver(grid,tol=0.5e-7):\n",
    "    '''Solve the two dimensional Poisson equation using the bi-conjugate\n",
    "    gradient stabilised matrix solver (BiCGStab).  This function assembles\n",
    "    the coeficient matrix A and the RHS vector b taking account of the \n",
    "    boundary conditions specified in the grid object and calls the sparse\n",
    "    BiCGStab solver from scipy.  The value tol is passed to BiCGStab routine\n",
    "    The solution vector x is then unpacked into grid.u. It returns the info\n",
    "    value from BiCGStab if this is zero everything worked.\n",
    "    \n",
    "    Writen by D Ingram\n",
    "    (c) 2021 The University of Edinburgh\n",
    "    Licenced CC-BY.\n",
    "    '''\n",
    "    \n",
    "    # Create the A matrix using the lil format and the b vector\n",
    "    # as numpy vector.\n",
    "    N = (grid.Nj-2)*(grid.Ni-2)\n",
    "    A_mat = sps.lil_matrix((N, N), dtype=np.float64)\n",
    "    b_vec = np.zeros(N, dtype=np.float64)\n",
    "\n",
    "    # calculate the coefficients\n",
    "    beta = grid.Delta_x()/grid.Delta_y()\n",
    "    beta_sq = beta**2\n",
    "    R_x = - 1/(2*(1+beta_sq))\n",
    "    R_y = beta_sq * R_x\n",
    "    # the last coefficient is the multiplier for the Poisson term.\n",
    "    R_f = grid.Delta_x()*grid.Delta_y()\n",
    "\n",
    "    # matrix assembly. We're going to use += to add values to the matrix\n",
    "    # coeeficients and the RHS vector as boundary conditions could cause\n",
    "    # issues.  This is safe to do because both np.zeros and the sparse\n",
    "    # matrix creator initialise the values in the arrays to zero.\n",
    "    for j in range(1, grid.Nj-1):\n",
    "        for i in range(1, grid.Ni-1):\n",
    "            k = (i-1) + (grid.Ni-2)*(j-1)\n",
    "            A_mat[k,k]=1\n",
    "        \n",
    "            # Left boundary\n",
    "            if i>1:\n",
    "                A_mat[k,k-1] += R_x\n",
    "            elif (grid.BC[0] == grid.NEUMANN_BC):\n",
    "                A_mat[k,k+1] += R_x\n",
    "            else:\n",
    "                b_vec[k] += -R_x*grid.u[j,i-1]\n",
    "\n",
    "            # Right boundary\n",
    "            if i<grid.Ni-2:\n",
    "                A_mat[k,k+1] +=R_x\n",
    "            elif (grid.BC[1] == grid.NEUMANN_BC):\n",
    "                A_mat[k,k-1] += R_x\n",
    "            else:\n",
    "                b_vec[k] += -R_x*grid.u[j,i+1]\n",
    "            \n",
    "            # Bottom boundary\n",
    "            if j>1:\n",
    "                A_mat[k,k-(grid.Ni-2)] += R_y\n",
    "            elif (grid.BC[3]== grid.NEUMANN_BC):\n",
    "                A_mat[k,k+(grid.Ni-2)] += R_y\n",
    "            else:\n",
    "                b_vec[k] += -R_y*grid.u[j-1,i]\n",
    "   \n",
    "            # South boundary\n",
    "            if j<grid.Nj-2:\n",
    "                A_mat[k,k+(grid.Ni-2)] += R_y\n",
    "            elif (grid.BC[2]== grid.NEUMANN_BC):\n",
    "                A_mat[k,k-(grid.Ni-2)] += R_y\n",
    "            else:\n",
    "                b_vec[k] += -R_y*grid.u[j+1,i]\n",
    "                \n",
    "            #Now add the value of f(x,y) to the RHS value b\n",
    "            b_vec[k] += R_f*grid.f[j,i]\n",
    "\n",
    "    # call bicgstab with an ILU preconditioner, drop_tol and\n",
    "    # fill factor control the accuracy of the ILU approximation.\n",
    "    ilu = LA.spilu(A_mat.tocsc(), drop_tol=1e-6, fill_factor=100)\n",
    "    M_mat = LA.LinearOperator(A_mat.shape, ilu.solve)\n",
    "    x_vec, info = LA.bicgstab(A_mat,b_vec,atol=tol,M=M_mat)\n",
    "\n",
    "    if info<=0:\n",
    "        # unpack x_vec into u\n",
    "        for j in range(1, grid.Nj-1):\n",
    "            for i in range(1, grid.Ni-1):\n",
    "                k = (i-1) + (grid.Ni-2)*(j-1)\n",
    "                grid.u[j,i]=x_vec[k]\n",
    "    \n",
    "    return info\n"
   ]
  },
  {
   "cell_type": "markdown",
   "id": "1066cbaf-3817-4452-85c5-39b2e1ecc2d9",
   "metadata": {},
   "source": [
    "## Test\n",
    "Let's test it.  We will plot the 2D solutions when we've done and also plot a graph of the centerline of the dsiplacement and pressure feilds.\n"
   ]
  },
  {
   "cell_type": "code",
   "execution_count": 4,
   "id": "royal-vault",
   "metadata": {
    "tags": []
   },
   "outputs": [
    {
     "name": "stdout",
     "output_type": "stream",
     "text": [
      "Uniform 121x121 grid from (-1.0, -1.0) to (1.0, 1.0).\n",
      "Boundaries conditions are - left: Dirichlet, right: Dirichlet, top: Dirichlet, bottom: Dirichlet.\n",
      "Solver took 0.451 seconds.\n"
     ]
    },
    {
     "data": {
      "image/png": "[encoded data removed]",
      "text/plain": [
       "<Figure size 432x288 with 4 Axes>"
      ]
     },
     "metadata": {
      "needs_background": "light"
     },
     "output_type": "display_data"
    },
    {
     "data": {
      "image/png": "[encoded data removed]",
      "text/plain": [
       "<Figure size 432x288 with 2 Axes>"
      ]
     },
     "metadata": {
      "needs_background": "light"
     },
     "output_type": "display_data"
    }
   ],
   "source": [
    "test = DeflectionTest(121,121)\n",
    "print(test)\n",
    "\n",
    "# run the solver\n",
    "start = time.process_time()\n",
    "info = PoissonSolver(test)\n",
    "stop = time.process_time()\n",
    "print(\"Solver took {:.3g} seconds.\".format(stop-start))\n",
    "\n",
    "if info==0:\n",
    "    # plot the solution# create two subplots with the shared x and y axes\n",
    "    fig, (ax1, ax2) = plt.subplots(1, 2, sharex=True, sharey=True)\n",
    "    ax1.set_aspect('equal')\n",
    "    ax2.set_aspect('equal')\n",
    "    \n",
    "    # Plot the deflecton\n",
    "    cmap = plt.get_cmap('jet')\n",
    "    cf = ax1.contourf(test.x,test.y,test.u,cmap=cmap,levels = 21)\n",
    "    fig.colorbar(cf, ax=ax1)\n",
    "    ax1.set_title(f'Displacement')\n",
    "    # Plot the pressure\n",
    "    cf = ax2.contourf(test.x,test.y,test.f,cmap=cmap,levels = 21)\n",
    "    fig.colorbar(cf, ax=ax2)\n",
    "    ax2.set_title(f'Pressure')\n",
    "    plt.show()\n",
    "else:\n",
    "    print('Error code ',info,' returned by BiCGStab')\n",
    "    \n",
    "# plot the deflection on the centerline and the pressure\n",
    "X_c = int(test.Ni / 2)\n",
    "fig, ax1 = plt.subplots()\n",
    "ax1.set_xlabel('y')\n",
    "ax1.set_ylabel('Displacement')\n",
    "ax1.plot(test.y[:,X_c],test.u[:,X_c],'.')\n",
    "\n",
    "ax2 = ax1.twinx()  # instantiate a second axes that shares the same x-axis\n",
    "ax2.set_ylabel('Pressure',color='r')\n",
    "ax2.tick_params(axis='y', labelcolor='r')\n",
    "ax2.plot(test.y[:,X_c],test.f[:,X_c],'r')\n",
    "fig.tight_layout()  # otherwise the right y-label is slightly clipped\n",
    "plt.show()"
   ]
  },
  {
   "cell_type": "markdown",
   "id": "twenty-store",
   "metadata": {},
   "source": [
    "# final test\n",
    "\n",
    "Now we have a working Poisson solver we need to do the traditional mesh refinement test.\n",
    "\n",
    "We need an integrated quanity to calculate.  We're going to use the $$\\int_{-1}^{1}u(0.0,y)\\ dy$$ as the measure. effectively using the area under the displacement curev plotted above as the measure of the integrated quantity."
   ]
  },
  {
   "cell_type": "code",
   "execution_count": 5,
   "id": "broken-objective",
   "metadata": {},
   "outputs": [],
   "source": [
    "import scipy.integrate as integrate\n",
    "from refinement_analysis import refinement_analysis\n",
    "\n",
    "def integrate_u_dy(mesh,y0,y1,x):\n",
    "    '''Calculate U=\\int_{y0}^{y1)u(0,y) dy  using the\n",
    "    u value stored on the grid and simpsons rule'''\n",
    "    \n",
    "    # find the left and right grid points\n",
    "    i,j0 = mesh.find((x,y0))\n",
    "    i,j1 = mesh.find((x,y1))\n",
    "\n",
    "    # add 1 to i1 as we are going to use it as an upper \n",
    "    # bound forarray slicing\n",
    "    j1 = j1 +1\n",
    "    \n",
    "    # integrate\n",
    "    return integrate.simps(mesh.u[j0:j1,i],mesh.y[j0:j1,i])\n",
    "\n"
   ]
  },
  {
   "cell_type": "code",
   "execution_count": 6,
   "id": "acting-dover",
   "metadata": {},
   "outputs": [
    {
     "name": "stdout",
     "output_type": "stream",
     "text": [
      "Uniform 1281x1281 grid from (-1.0, -1.0) to (1.0, 1.0).\n",
      "Boundaries conditions are - left: Dirichlet, right: Dirichlet, top: Dirichlet, bottom: Dirichlet.\n",
      "The solver took 0:07:18, the return code is 0\n",
      "Integrated value is  0.17146915487654404 \n",
      "\n",
      "Uniform 641x641 grid from (-1.0, -1.0) to (1.0, 1.0).\n",
      "Boundaries conditions are - left: Dirichlet, right: Dirichlet, top: Dirichlet, bottom: Dirichlet.\n",
      "The solver took 0:00:22, the return code is 0\n",
      "Integrated value is  0.17145808153289382 \n",
      "\n",
      "Uniform 321x321 grid from (-1.0, -1.0) to (1.0, 1.0).\n",
      "Boundaries conditions are - left: Dirichlet, right: Dirichlet, top: Dirichlet, bottom: Dirichlet.\n",
      "The solver took 0:00:03, the return code is 0\n",
      "Integrated value is  0.1714820585102818 \n",
      "\n",
      "Uniform 161x161 grid from (-1.0, -1.0) to (1.0, 1.0).\n",
      "Boundaries conditions are - left: Dirichlet, right: Dirichlet, top: Dirichlet, bottom: Dirichlet.\n",
      "The solver took 0:00:00, the return code is 0\n",
      "Integrated value is  0.17151013554673716 \n",
      "\n",
      "Uniform 81x81 grid from (-1.0, -1.0) to (1.0, 1.0).\n",
      "Boundaries conditions are - left: Dirichlet, right: Dirichlet, top: Dirichlet, bottom: Dirichlet.\n",
      "The solver took 0:00:00, the return code is 0\n",
      "Integrated value is  0.1705300903518967 \n",
      "\n",
      "Uniform 41x41 grid from (-1.0, -1.0) to (1.0, 1.0).\n",
      "Boundaries conditions are - left: Dirichlet, right: Dirichlet, top: Dirichlet, bottom: Dirichlet.\n",
      "The solver took 0:00:00, the return code is 0\n",
      "Integrated value is  0.1677218215027539 \n",
      "\n"
     ]
    }
   ],
   "source": [
    "import datetime # just seconds may not be enough\n",
    "\n",
    "# we need some lists u and dx values\n",
    "U_val = []\n",
    "dx_val = []\n",
    "run_time = []\n",
    "n_pts =[]\n",
    "for grid_index in range(7,1,-1):\n",
    "    ni = 10*2**grid_index + 1\n",
    "    nj = 10*2**grid_index + 1\n",
    "    n_pts.append(ni*nj)\n",
    "    \n",
    "    # set up the problem\n",
    "    test = DeflectionTest(ni,nj)\n",
    "    print(test)\n",
    "    \n",
    "    # Solve the problem using floating point epsilon as\n",
    "    # the tolerance for convergence.\n",
    "    start = time.process_time()\n",
    "    info = PoissonSolver(test,tol=np.finfo(float).eps)\n",
    "    stop = time.process_time()\n",
    "    print(\"The solver took {}, the return code is {}\" \\\n",
    "          .format(datetime.timedelta(seconds=int(stop-start)),info))\n",
    "\n",
    "    # save dx and the integral\n",
    "    dx_val.append(test.Delta_x())\n",
    "    U_val.append(integrate_u_dy(test,-1.0,1.0,0.0))\n",
    "    run_time.append(stop-start)\n",
    "          \n",
    "    print('Integrated value is ',U_val[-1],'\\n')"
   ]
  },
  {
   "cell_type": "code",
   "execution_count": 7,
   "id": "important-guest",
   "metadata": {},
   "outputs": [
    {
     "name": "stdout",
     "output_type": "stream",
     "text": [
      "Refinement Analysis on 6 grids.\n",
      "\n",
      "Grid Delta x ratio  \\int_{0.5}^{0.7}w(0,y) dy\n",
      "---------------------------------------------\n",
      "   1 0.001563     2  0.171469\n",
      "   2 0.003125     2  0.171458\n",
      "   3 0.00625     2  0.171482\n",
      "   4  0.0125     2   0.17151\n",
      "   5   0.025     2   0.17053\n",
      "   6    0.05   ---  0.167722\n",
      "--------------------------------------------- \n",
      "\n",
      "order of convergence, p =   1.11\n",
      "\n",
      "Grids       GCI\n",
      "---------------\n",
      " 1  2 6.927e-05\n",
      " 2  3   0.00015\n",
      " 3  4 0.0001756\n",
      " 4  5   0.00613\n",
      " 5  6   0.01767\n",
      "---------------\n",
      "\n",
      " Grid Step  GCI Ratio Converged\n",
      "-------------------------------\n",
      " 1 2  2 3      0.9999 True\n",
      " 2 3  3 4       1.849 False\n",
      " 3 4  4 5     0.06204 False\n",
      " 4 5  5 6      0.7513 False\n",
      "-------------------------------\n",
      "\n"
     ]
    },
    {
     "data": {
      "image/png": "[encoded data removed]",
      "text/plain": [
       "<Figure size 432x288 with 1 Axes>"
      ]
     },
     "metadata": {
      "needs_background": "light"
     },
     "output_type": "display_data"
    }
   ],
   "source": [
    "from refinement_analysis import refinement_analysis\n",
    "# lets to the refinement analysis\n",
    "analysis = refinement_analysis(dx_val,U_val)\n",
    "analysis.report(r'\\int_{0.5}^{0.7}w(0,y) dy')\n",
    "analysis.plot(True,r'$\\int_{0.5}^{0.7}w(0,y) dy$')"
   ]
  },
  {
   "cell_type": "code",
   "execution_count": 8,
   "id": "152acfd3-2756-4aec-aa8d-e019f5bac928",
   "metadata": {},
   "outputs": [
    {
     "data": {
      "image/png": "[encoded data removed]",
      "text/plain": [
       "<Figure size 432x288 with 1 Axes>"
      ]
     },
     "metadata": {
      "needs_background": "light"
     },
     "output_type": "display_data"
    }
   ],
   "source": [
    "# Plot the runtime\n",
    "plt.plot(n_pts,run_time,'o')\n",
    "plt.ylabel('run time [s]')\n",
    "plt.yscale('log')\n",
    "plt.xscale('log')\n",
    "plt.xlabel('Number of grid points')\n",
    "plt.show()\n"
   ]
  },
  {
   "cell_type": "markdown",
   "id": "colored-literature",
   "metadata": {},
   "source": [
    "##### Analysis\n",
    "The runtime for preconditioned BiCGStab on the 1281 x 1281 grid is 07:23.  The GCI analysis shows that the apparent order is 1.11 (so less than 2) but that the three finest grids are mesh converged.  The plot shows that the integrated quanity is approaching the limit anymptotically.  \n",
    "\n",
    "Seven minutes is a perfectly respectable runtime for solving this problem but requires some degree of patients (and perhsps making a cup of coffee).  The 641 x 641 grid takes about 22 seconds and still gives a good solution.  Plotting the log of the solution time against the log of the number of grid points shows an almost linear rationship.\n",
    "\n",
    "The slope of this line can be found by regression.\n",
    "\n"
   ]
  },
  {
   "cell_type": "code",
   "execution_count": 9,
   "id": "still-chile",
   "metadata": {},
   "outputs": [
    {
     "name": "stdout",
     "output_type": "stream",
     "text": [
      "Time to solution is approximately 2.1e-06⨉N^1.3 seconds.\n",
      "The regression line explains 99% of the variation\n"
     ]
    },
    {
     "data": {
      "image/png": "[encoded data removed]",
      "text/plain": [
       "<Figure size 432x288 with 1 Axes>"
      ]
     },
     "metadata": {
      "needs_background": "light"
     },
     "output_type": "display_data"
    }
   ],
   "source": [
    "from scipy import stats\n",
    "\n",
    "# log-log regression using the scipy stats library\n",
    "log_n = np.log(n_pts)\n",
    "log_t = np.log(run_time)\n",
    "slope, intercept, r_value, p_value, std_err = stats.linregress(log_n,log_t)\n",
    "\n",
    "# plot the results\n",
    "print('Time to solution is approximately {:.3g}⨉N^{:.1f} seconds.'.format(np.exp(intercept),slope)) \n",
    "print('The regression line explains {:.0f}% of the variation'.format(100*r_value))\n",
    "\n",
    "# plot the regression line\n",
    "plt.plot(n_pts,run_time,'o')\n",
    "plt.plot(n_pts,np.exp(intercept)*n_pts**slope,'g-')\n",
    "plt.ylabel('run time [s]')\n",
    "plt.yscale('log')\n",
    "plt.xscale('log')\n",
    "plt.xlabel('Number of grid points')\n",
    "plt.show()\n",
    "\n"
   ]
  },
  {
   "cell_type": "markdown",
   "id": "098685c6-91b3-4615-92d4-e26c43b2c375",
   "metadata": {},
   "source": [
    "## Runtime\n",
    "Remember that _N_ is the total number of grid points, i.e. _N_=_N_<sub>x</sub> ⨉ _N_<sub>y</sub>.  \n",
    "\n",
    "Since _N_ is approximately _N_<sub>x</sub><sup>2</sup> and 1.3 is approximately 1, we say that the computational cost of running the BiCGStab solver is roughly N<sup>2</sup>,  i.e. doubling the number of mesh points in erach direction quadrouples the run time.\n",
    "\n",
    "For a finite difference solver this is exceptionally fast!"
   ]
  },
  {
   "cell_type": "code",
   "execution_count": null,
   "id": "0cc448ea-7187-4e9f-99b8-037bf39aa3ec",
   "metadata": {},
   "outputs": [],
   "source": []
  }
 ],
 "metadata": {
  "kernelspec": {
   "display_name": "Python 3",
   "language": "python",
   "name": "python3"
  },
  "language_info": {
   "codemirror_mode": {
    "name": "ipython",
    "version": 3
   },
   "file_extension": ".py",
   "mimetype": "text/x-python",
   "name": "python",
   "nbconvert_exporter": "python",
   "pygments_lexer": "ipython3",
   "version": "3.9.9"
  }
 },
 "nbformat": 4,
 "nbformat_minor": 5
}
