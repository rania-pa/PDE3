{
 "cells": [
  {
   "cell_type": "markdown",
   "id": "rolled-microwave",
   "metadata": {},
   "source": [
    "# Verification and Validation\n",
    "\n",
    "Now we have a working solver (the fast version of SOR) we need to know if\n",
    "* we are solving the the right equations?\n",
    "* we are solving the equations right?\n",
    "\n",
    "These two questions are related to the process of Validation and Verification (often called V&V).   \n",
    "\n",
    "The fist question asks if the PDE we are solving is a proper representation of the physical problem we are trying to understand.  More on this later.\n",
    "\n",
    "The second is all about the errors in our solution. We need to think about sources of error in our calculation and decide if our solver is behaving properly.\n",
    "\n",
    "## Sources of Error\n",
    "1. Round off - Are the numerical equations implemented in a way which maintains accuracy?  Are we using a sufficiently precise representation of the numbers?\n",
    "2. Implementation - Have we got bugs in the code? \n",
    "3. Accuracy - In solving the equations have we acheived a sufficient degree of convergence?\n",
    "4. Truncation - The order of accuracy of our numerical scheme.\n",
    "\n",
    "To look at this we need a solver (which needs some libraries and our Grid class)."
   ]
  },
  {
   "cell_type": "code",
   "execution_count": 1,
   "id": "smooth-terrace",
   "metadata": {
    "jupyter": {
     "source_hidden": true
    },
    "tags": []
   },
   "outputs": [],
   "source": [
    "import numpy as np\n",
    "import matplotlib.pyplot as plt\n",
    "import time\n",
    "\n",
    "class Grid:\n",
    "    '''Class defining a 2D computational grid.  The grid object\n",
    "    contains is a regular cartesian grid with a single variable, u.\n",
    "    It stores information about the number of grid points in the i\n",
    "    and j directions, the ordinates of these points and the bottom\n",
    "    left corner of the gird (the origin) and the top right corner\n",
    "    (the extent).\n",
    "    \n",
    "    Written by Prof David Ingram, School of Engineering\n",
    "    (c) 2021 The University of Edinburgh\n",
    "    Licensed under CC-BY-NC.'''\n",
    "    \n",
    "    def __init__(self,ni,nj):\n",
    "        # set up information about the grid\n",
    "        self.origin = (0.0, 0.0)  # bottom left\n",
    "        self.extent = (1.0, 1.0)  # top right\n",
    "        self.Ni = ni # grid points in i direction\n",
    "        self.Nj = nj # grid points in j direction\n",
    "        \n",
    "        # initialse x,y and u arrays\n",
    "        self.u = np.zeros((nj, ni))\n",
    "        self.x = np.zeros((nj, ni))\n",
    "        self.y = np.zeros((nj, ni))\n",
    "\n",
    "    def set_origin(self,x0,y0):\n",
    "        self.origin = (x0, y0)\n",
    "    \n",
    "    def set_extent(self,x1,y1):\n",
    "        self.extent = (x1, y1)\n",
    "        \n",
    "    def generate(self,Quiet=True):\n",
    "        '''generate a uniformly spaced grid covering the domain from the\n",
    "        origin to the extent.  We are going to do this using linspace from\n",
    "        numpy to create lists of x and y ordinates and then the meshgrid\n",
    "        function to turn these into 2D arrays of grid point ordinates.'''\n",
    "        x_ord = np.linspace(self.origin[0], self.extent[0], self.Ni)\n",
    "        y_ord = np.linspace(self.origin[1], self.extent[1], self.Nj)\n",
    "        self.x, self.y = np.meshgrid(x_ord,y_ord)\n",
    "        if not Quiet:\n",
    "            print(self)\n",
    "\n",
    "    def Delta_x(self):\n",
    "        # calculate delta x\n",
    "        return self.x[0,1]-self.x[0,0]\n",
    "    \n",
    "    def Delta_y(self):\n",
    "        # calculate delta y\n",
    "        return self.y[1,0]-self.y[0,0]\n",
    "    \n",
    "    def find(self,point):\n",
    "        '''find the i and j ordinates of the grid cell which contains \n",
    "        the point (x,y).  To do this we calculate the distance from\n",
    "        the point to the origin in the x and y directions and then\n",
    "        divide this by delta x and delta y.  The resulting real ordinates\n",
    "        are converted to indices using the int() function.'''\n",
    "        grid_x = (point[0] - self.origin[0])/self.Delta_x()\n",
    "        grid_y = (point[1] - self.origin[1])/self.Delta_y()\n",
    "        return int(grid_x), int(grid_y)\n",
    "    \n",
    "    def __str__(self):\n",
    "        # describe the object when asked to print it\n",
    "        return 'Uniform {}x{} grid from {} to {}.'.format(self.Ni, self.Nj, self.origin, self.extent)\n",
    "    \n",
    "def SOR(mesh,tol=0.5e-7,maxit=10000):\n",
    "    '''Sucessive over Relaxation method for the solution of\n",
    "    the Laplace equation with checkerboarding.  The solver \n",
    "    assumes a uniform Cartesian mesh and uses the optimal\n",
    "    value of the acceleration parameter, omega.\n",
    "    \n",
    "    The method works on the grid stored in the mesh object.  \n",
    "    It will continue itterating until the relative difference \n",
    "    between u^{n+1} and u^n is less than tol. It will also stop \n",
    "    if we have done more than maxit itterations.\n",
    "    \n",
    "    The solution stored in the mesh.u variable is updated\n",
    "            \n",
    "    Written by Prof David Ingram, School of Engineering\n",
    "    (c) 2021 The University of Edinburgh\n",
    "    Licensed under CC-BY-NC.'''\n",
    "\n",
    "    # calculate the optimal value of omega\n",
    "    lamda = (np.cos(np.pi/mesh.Ni)+np.cos(np.pi/mesh.Nj))**2/4\n",
    "    omega = 2/(1+np.sqrt(1-lamda))\n",
    "\n",
    "    # calculate the coefficients\n",
    "    beta = mesh.Delta_x()/mesh.Delta_y()\n",
    "    beta_sq = beta**2\n",
    "    C_beta = 1/(2*(1+beta_sq))\n",
    "    \n",
    "    # initialise u_new \n",
    "    u_new = mesh.u.copy()\n",
    "    \n",
    "    # build the list of k values    \n",
    "    offset = mesh.u.shape[1] # how far away are j+1 and j-1\n",
    "\n",
    "    # create some empty lists\n",
    "    centre = []; north = []; east = []; south=[]; west = []  \n",
    "    # loop over all the interior points\n",
    "    for j in range(1,mesh.Nj-1):\n",
    "        for i in range(1,mesh.Ni-1):\n",
    "            k=i+offset*j  # calculate the k value\n",
    "            # save the south, west, centre, east and north points\n",
    "            centre.append(k)\n",
    "            north.append(k+offset)\n",
    "            east.append(k+1)\n",
    "            south.append(k-offset)\n",
    "            west.append(k-1)\n",
    "\n",
    "    # itteration\n",
    "    for it in range(maxit):\n",
    "        \n",
    "        # red squares [::2] means from 0 to n in steps of 2, remember\n",
    "        # we are taking alternate values from the lists centre, east,\n",
    "        # north, west and south and using them as indicies into the \n",
    "        # u_new array.\n",
    "        u_new.flat[centre[::2]] = (1-omega) * u_new.flat[centre[::2]] + \\\n",
    "                                    omega * C_beta*(u_new.flat[north[::2]]+ \\\n",
    "                                    u_new.flat[south[::2]]+ \\\n",
    "                                    beta_sq*(u_new.flat[east[::2]]+ \\\n",
    "                                             u_new.flat[west[::2]]))\n",
    "        \n",
    "        # black squares [1::2] means from 1 to n in steps of 2\n",
    "        u_new.flat[centre[1::2]] = (1-omega) * u_new.flat[centre[1::2]] + \\\n",
    "                                    omega * C_beta*(u_new.flat[north[1::2]]+ \\\n",
    "                                    u_new.flat[south[1::2]]+ \\\n",
    "                                    beta_sq*(u_new.flat[east[1::2]]+ \\\n",
    "                                             u_new.flat[west[1::2]]))\n",
    "\n",
    "        # compute the difference between the new and old solutions\n",
    "        err = np.max(np.abs(mesh.u-u_new))\n",
    "        \n",
    "        # update the solution\n",
    "        mesh.u = np.copy(u_new)\n",
    "        \n",
    "        # converged?\n",
    "        if err < tol:\n",
    "            break\n",
    "    \n",
    "    if it+1 == maxit:\n",
    "        print('Checkerboard Gauss-Seidel itteration failed to converge, error = {}'.format(err))\n",
    "    return it+1,err"
   ]
  },
  {
   "cell_type": "markdown",
   "id": "dietary-share",
   "metadata": {},
   "source": [
    "## The test problem\n",
    "Were going to use the same test problem as before:  \n",
    "\n",
    "$$0=u_{xx}+u_{yy}$$\n",
    "subject to the boundary conditions\n",
    "$$\\begin{align*}\n",
    "u(x,0)&=0&0\\le x\\le 2 \\\\\n",
    "u(x,1)&=0&0\\le x\\le 2 \\\\\n",
    "u(0,y)&=0&0\\le y \\le 1\\\\\n",
    "u(2,y)&=\\sin 2\\pi y&0\\le y \\le 1.\n",
    "\\end{align*}$$\n"
   ]
  },
  {
   "cell_type": "code",
   "execution_count": 2,
   "id": "solid-maine",
   "metadata": {},
   "outputs": [],
   "source": [
    "def Example929(ni,nj):\n",
    "    # set up a mesh\n",
    "    mesh = Grid(ni,nj)\n",
    "    mesh.set_extent(2.0,1.0)\n",
    "    mesh.generate()\n",
    "    # now the RHS boundary condition\n",
    "    mesh.u[:,-1]=np.sin(2*np.pi*mesh.y[:,-1])\n",
    "    return mesh"
   ]
  },
  {
   "cell_type": "code",
   "execution_count": 3,
   "id": "sudden-valuable",
   "metadata": {},
   "outputs": [],
   "source": [
    "# Test problem on a fine grid\n",
    "test = Example929(161,81)\n"
   ]
  },
  {
   "cell_type": "markdown",
   "id": "governmental-marathon",
   "metadata": {},
   "source": [
    "## Round off\n",
    "\n",
    "The `numpy.finfo()` function can be used to tell us some useful information about the representation of numbers in Python.  If we apply this to the u array, we get:"
   ]
  },
  {
   "cell_type": "code",
   "execution_count": 4,
   "id": "genetic-atmosphere",
   "metadata": {},
   "outputs": [
    {
     "name": "stdout",
     "output_type": "stream",
     "text": [
      "Machine parameters for float64\n",
      "---------------------------------------------------------------\n",
      "precision =  15   resolution = 1.0000000000000001e-15\n",
      "machep =    -52   eps =        2.2204460492503131e-16\n",
      "negep =     -53   epsneg =     1.1102230246251565e-16\n",
      "minexp =  -1022   tiny =       2.2250738585072014e-308\n",
      "maxexp =   1024   max =        1.7976931348623157e+308\n",
      "nexp =       11   min =        -max\n",
      "---------------------------------------------------------------\n",
      "\n"
     ]
    }
   ],
   "source": [
    "info  = np.finfo(test.u.dtype)\n",
    "print(info)"
   ]
  },
  {
   "cell_type": "markdown",
   "id": "matched-trigger",
   "metadata": {},
   "source": [
    "This tells us\n",
    "* u is stored as a 64 bit (8 byte) floating point number.\n",
    "* we have approximately 15 decimal places of accuracy\n",
    "* 11 bits are used to store the exponent which can be between (-1022 and 1024)\n",
    "* the smallest representible number (at which a number becomes indistinguishable from zero) is 2.2250738585072014e-308\n",
    "* the largest representible number (at which an overflow error occurs) is 1.7976931348623157e+308\n",
    "* the largest number, ε, for which 1 + ε = 1 is 2.2204460492503131e-16\n",
    "\n",
    "Double precision is considered standard for most numeric computations.  We can use more precision but this will slow down the computation.\n",
    "\n",
    "The ammount of memory used to store u is 8 times the size of u:"
   ]
  },
  {
   "cell_type": "code",
   "execution_count": 5,
   "id": "empirical-liberal",
   "metadata": {},
   "outputs": [
    {
     "name": "stdout",
     "output_type": "stream",
     "text": [
      "102 kbytes\n"
     ]
    }
   ],
   "source": [
    "print('{:.0f} kbytes'.format(test.u.size*8/1024))"
   ]
  },
  {
   "cell_type": "markdown",
   "id": "individual-booking",
   "metadata": {},
   "source": [
    "## Implementation\n",
    "\n",
    "Now we need to check for bugs in the code. \n",
    "\n",
    "Oddly the best way to do this is to try to solve probkems where we know **nothing** should happen.  If we solve\n",
    "$$0=u_{xx}+u_{yy}$$\n",
    "subject to the boundary conditions\n",
    "$$\\begin{align*}\n",
    "u(x,0)&=0&0\\le x\\le 1 \\\\\n",
    "u(x,1)&=0&0\\le x\\le 1 \\\\\n",
    "u(0,y)&=0&0\\le y \\le 1\\\\\n",
    "u(1,y)&=0&0\\le y \\le 1.\n",
    "\\end{align*}$$\n",
    "starting with the initial conditions $$u(x,y)=0$$ nothing should change."
   ]
  },
  {
   "cell_type": "code",
   "execution_count": 6,
   "id": "annual-bobby",
   "metadata": {},
   "outputs": [
    {
     "name": "stdout",
     "output_type": "stream",
     "text": [
      "Converged after 1 itterations, final residual is 0.0\n",
      "[[0. 0. 0. 0. 0. 0. 0. 0. 0. 0. 0.]\n",
      " [0. 0. 0. 0. 0. 0. 0. 0. 0. 0. 0.]\n",
      " [0. 0. 0. 0. 0. 0. 0. 0. 0. 0. 0.]\n",
      " [0. 0. 0. 0. 0. 0. 0. 0. 0. 0. 0.]\n",
      " [0. 0. 0. 0. 0. 0. 0. 0. 0. 0. 0.]\n",
      " [0. 0. 0. 0. 0. 0. 0. 0. 0. 0. 0.]\n",
      " [0. 0. 0. 0. 0. 0. 0. 0. 0. 0. 0.]\n",
      " [0. 0. 0. 0. 0. 0. 0. 0. 0. 0. 0.]\n",
      " [0. 0. 0. 0. 0. 0. 0. 0. 0. 0. 0.]\n",
      " [0. 0. 0. 0. 0. 0. 0. 0. 0. 0. 0.]\n",
      " [0. 0. 0. 0. 0. 0. 0. 0. 0. 0. 0.]]\n"
     ]
    }
   ],
   "source": [
    "nulltest = Grid(11,11)\n",
    "nulltest.generate()\n",
    "itt, err = SOR(nulltest)\n",
    "print('Converged after {} itterations, final residual is {}'.format(itt,err))\n",
    "print(nulltest.u)"
   ]
  },
  {
   "cell_type": "markdown",
   "id": "widespread-shaft",
   "metadata": {},
   "source": [
    "Now we can try again with a problem where u is zero and all the boundary conditions are 1.  We are going to set `tol = 1.0e-15` to ensure that we have a completely converged solution! "
   ]
  },
  {
   "cell_type": "code",
   "execution_count": 7,
   "id": "paperback-reference",
   "metadata": {},
   "outputs": [
    {
     "name": "stdout",
     "output_type": "stream",
     "text": [
      "[[1. 1. 1. 1. 1. 1. 1. 1. 1. 1. 1.]\n",
      " [1. 0. 0. 0. 0. 0. 0. 0. 0. 0. 1.]\n",
      " [1. 0. 0. 0. 0. 0. 0. 0. 0. 0. 1.]\n",
      " [1. 0. 0. 0. 0. 0. 0. 0. 0. 0. 1.]\n",
      " [1. 0. 0. 0. 0. 0. 0. 0. 0. 0. 1.]\n",
      " [1. 0. 0. 0. 0. 0. 0. 0. 0. 0. 1.]\n",
      " [1. 0. 0. 0. 0. 0. 0. 0. 0. 0. 1.]\n",
      " [1. 0. 0. 0. 0. 0. 0. 0. 0. 0. 1.]\n",
      " [1. 0. 0. 0. 0. 0. 0. 0. 0. 0. 1.]\n",
      " [1. 0. 0. 0. 0. 0. 0. 0. 0. 0. 1.]\n",
      " [1. 1. 1. 1. 1. 1. 1. 1. 1. 1. 1.]]\n",
      "Converged after 63 itterations, final residual is 6.661338147750939e-16\n",
      "[[1. 1. 1. 1. 1. 1. 1. 1. 1. 1. 1.]\n",
      " [1. 1. 1. 1. 1. 1. 1. 1. 1. 1. 1.]\n",
      " [1. 1. 1. 1. 1. 1. 1. 1. 1. 1. 1.]\n",
      " [1. 1. 1. 1. 1. 1. 1. 1. 1. 1. 1.]\n",
      " [1. 1. 1. 1. 1. 1. 1. 1. 1. 1. 1.]\n",
      " [1. 1. 1. 1. 1. 1. 1. 1. 1. 1. 1.]\n",
      " [1. 1. 1. 1. 1. 1. 1. 1. 1. 1. 1.]\n",
      " [1. 1. 1. 1. 1. 1. 1. 1. 1. 1. 1.]\n",
      " [1. 1. 1. 1. 1. 1. 1. 1. 1. 1. 1.]\n",
      " [1. 1. 1. 1. 1. 1. 1. 1. 1. 1. 1.]\n",
      " [1. 1. 1. 1. 1. 1. 1. 1. 1. 1. 1.]]\n"
     ]
    }
   ],
   "source": [
    "nulltest.u[:,:] = 1\n",
    "nulltest.u[1:-1,1:-1] = 0\n",
    "print(nulltest.u)\n",
    "itt, err = SOR(nulltest,tol=1e-15)\n",
    "print('Converged after {} itterations, final residual is {}'.format(itt,err))\n",
    "print(nulltest.u)"
   ]
  },
  {
   "cell_type": "markdown",
   "id": "suburban-exclusive",
   "metadata": {},
   "source": [
    "## Accuracy\n",
    "\n",
    "For problem 9.29 we have an analytical solution,\n",
    "$$u=\\sin2\\pi y\\frac{\\sinh 2\\pi x}{\\sinh 4\\pi}.$$\n",
    "\n",
    "If we create a model solution we can compare the two, looking at the error between them.  This can be done eirther by plotting the local error against x and y or by calculating the L2 norm:\n",
    "$$||e(x,y)||_2=\\sqrt{\\sum_i\\sum_j e^2_{ij}}$$\n",
    "\n",
    "We don't have to do this by hand as numpy provides the function `numpy.linalg.norm()` to compute the L2 norm.\n",
    "\n",
    "We need a function to compute the analytical solution and then we want to compare.  In this case I'm going to use a high value of `tol=0.5e-4` which will give us around 4 decimal places of accuracy."
   ]
  },
  {
   "cell_type": "code",
   "execution_count": 8,
   "id": "above-break",
   "metadata": {},
   "outputs": [
    {
     "name": "stdout",
     "output_type": "stream",
     "text": [
      "Solver took 0.701 seconds.\n",
      "Converged after 146 itterations, final residual is 4.606725047696249e-05\n",
      "L2 norm = 0.006046492778863192\n"
     ]
    },
    {
     "data": {
      "image/png": "[encoded data removed]",
      "text/plain": [
       "<Figure size 432x288 with 2 Axes>"
      ]
     },
     "metadata": {
      "needs_background": "light"
     },
     "output_type": "display_data"
    },
    {
     "data": {
      "image/png": "[encoded data removed]",
      "text/plain": [
       "<Figure size 432x288 with 2 Axes>"
      ]
     },
     "metadata": {
      "needs_background": "light"
     },
     "output_type": "display_data"
    }
   ],
   "source": [
    "def analytical929(mesh):\n",
    "    # take a copy of the u array\n",
    "    u = np.copy(mesh.u)\n",
    "    # calculate the analytical solution\n",
    "    u[:,:] = np.sin(2*np.pi*mesh.y)*np.sinh(2*np.pi*mesh.x)/np.sinh(4*np.pi)\n",
    "    return u\n",
    "\n",
    "exact = analytical929(test)\n",
    "\n",
    "start = time.process_time()\n",
    "itt, err = SOR(test,tol=0.5e-4)\n",
    "stop = time.process_time()\n",
    "print(\"Solver took {:.3g} seconds.\".format(stop-start))\n",
    "print('Converged after {} itterations, final residual is {}'.format(itt,err))\n",
    "\n",
    "err = test.u - exact\n",
    "print('L2 norm =',np.linalg.norm(err))\n",
    "\n",
    "# plot the solution\n",
    "fig, ax1 = plt.subplots()\n",
    "cmap = plt.get_cmap('PiYG')\n",
    "cf = ax1.contourf(test.x,test.y,test.u,cmap=cmap)\n",
    "fig.colorbar(cf, ax=ax1)\n",
    "ax1.set_title(f'Example 9.29 ({test.Ni} x {test.Nj} grid)')\n",
    "plt.show()\n",
    "\n",
    "# plot the error\n",
    "fig, ax1 = plt.subplots()\n",
    "cf = ax1.contour(test.x,test.y,err)\n",
    "ax1.set_title(f'Absolute error on a {test.Ni} x {test.Nj} grid')\n",
    "fig.colorbar(cf, ax=ax1)\n",
    "plt.show()"
   ]
  },
  {
   "cell_type": "markdown",
   "id": "governing-wells",
   "metadata": {},
   "source": [
    "You can see that the We could try converging further, setting `tol=1.0e-15`.  If we call the solver again without re-initialising test we will just continue from where we were,"
   ]
  },
  {
   "cell_type": "code",
   "execution_count": 9,
   "id": "sitting-folder",
   "metadata": {},
   "outputs": [
    {
     "name": "stdout",
     "output_type": "stream",
     "text": [
      "Solver took an additional 4.12 seconds.\n",
      "Converged after 987 itterations, final residual is 9.992007221626409e-16\n",
      "L2 norm = 0.005798100391264446\n"
     ]
    },
    {
     "data": {
      "image/png": "[encoded data removed]",
      "text/plain": [
       "<Figure size 432x288 with 2 Axes>"
      ]
     },
     "metadata": {
      "needs_background": "light"
     },
     "output_type": "display_data"
    },
    {
     "data": {
      "image/png": "[encoded data removed]",
      "text/plain": [
       "<Figure size 432x288 with 2 Axes>"
      ]
     },
     "metadata": {
      "needs_background": "light"
     },
     "output_type": "display_data"
    }
   ],
   "source": [
    "start = time.process_time()\n",
    "it2, err = SOR(test,tol=1e-15)\n",
    "stop = time.process_time()\n",
    "print(\"Solver took an additional {:.3g} seconds.\".format(stop-start))\n",
    "print('Converged after {} itterations, final residual is {}'.format(itt+it2,err))\n",
    "\n",
    "err = test.u - exact\n",
    "print('L2 norm =',np.linalg.norm(err))\n",
    "\n",
    "# plot the solution\n",
    "fig, ax1 = plt.subplots()\n",
    "cmap = plt.get_cmap('PiYG')\n",
    "cf = ax1.contourf(test.x,test.y,test.u,cmap=cmap)\n",
    "fig.colorbar(cf, ax=ax1)\n",
    "ax1.set_title(f'Example 9.29 ({test.Ni} x {test.Nj} grid)')\n",
    "plt.show()\n",
    "\n",
    "# plot the error\n",
    "fig, ax1 = plt.subplots()\n",
    "cf = ax1.contour(test.x,test.y,err)\n",
    "ax1.set_title(f'Absolute error on a {test.Ni} x {test.Nj} grid')\n",
    "fig.colorbar(cf, ax=ax1)\n",
    "plt.show()"
   ]
  },
  {
   "cell_type": "markdown",
   "id": "muslim-genealogy",
   "metadata": {},
   "source": [
    "## Truncation error\n",
    "Now we know we have an accurate and precise (i.e. properly implemented with accurate arithmetic) solution, we see if the truncation error is behaving the way we expect.  Remember that the central difference approximation to the 2nd derivative is:\n",
    "$$\\frac{\\partial^2 u}{\\partial x^2} = \\frac{u_W-2u_O+u_E}{\\Delta x^2}+O(\\Delta x^2).$$\n",
    "\n",
    "Since the truncation error is O(Δx<sup>2</sup>) we expect the errors to decrease proortionately to Δx<sup>2</sup>.\n",
    "\n",
    "The GCI analysis (see the lecture) allows us to:\n",
    "* estimate the apparent order of accuracy, p (i.e. the errors are decreasing proportionate to Δx<sup>p</sup>), and\n",
    "* test to see if the grid is sufficiently fine that this is the case.\n",
    "\n",
    "Recall that we need:\n",
    "* a sequence of grids (N=1, 2, 3 ... ) where Δx and Δy approximately double each time (N=1 is the finest grid).\n",
    "* an integrated quantity which we measure over the same region of the domain on each grid. I'm going to use\n",
    "$$U=\\int_{1.0}^{1.95}u(x,0.25)\\,dx$$\n",
    "* some routines to compute p, the Grid Convergence Index and to estimate U on a grid where Δx=0.\n",
    "\n",
    "Were going to use the `refinement_analysis` class which can be downloaded from LEARN. It should be placed in the same directory as this Jupyter notebook.  We also need a function to do the integration (we can use  Simpson's rule from `scipy.integrate`)  to do this and the `find` function from the `Grid` class.\n"
   ]
  },
  {
   "cell_type": "code",
   "execution_count": 10,
   "id": "greatest-might",
   "metadata": {},
   "outputs": [],
   "source": [
    "import scipy.integrate as integrate\n",
    "from refinement_analysis import refinement_analysis\n",
    "\n",
    "def integrate_u_dx(mesh,x0,x1,y):\n",
    "    '''Calculate U=\\int_{1.0}^{1.95)u(x,0.25) dx  using the\n",
    "    u value stored on the grid and simpsons rule'''\n",
    "    \n",
    "    # find the left and right grid points\n",
    "    i0,j = mesh.find((x0,y))\n",
    "    i1,j = mesh.find((x1,y))\n",
    "\n",
    "    # add 1 to i1 as we are going to use it as an upper \n",
    "    # bound forarray slicing\n",
    "    i1 = i1 +1\n",
    "    \n",
    "    # integrate\n",
    "    return integrate.simps(mesh.u[j,i0:i1],mesh.x[j,i0:i1])\n",
    "\n",
    "\n",
    "    "
   ]
  },
  {
   "cell_type": "markdown",
   "id": "encouraging-boards",
   "metadata": {},
   "source": [
    "We then need to set up a sequence of grids based on grid doubling. The number of grid points in each direction should be given by $$N =2^n m + 1$$ where n is the grid index and m is an integer.  For our problem we are going to use\n",
    "$$N_i=2^n 20 + 1\\text{ and }N_j=2^n 10 + 1$$\n",
    "\n",
    "The following script creates a sequence of grids and solves them all.  The upper limit on the `range(5,-1,-1)` is the grid index of the finest grid.  Grid 7 takes about 40 minutes to run on my macbook pro. Grid 6, takes a much more reasonable three and a half minutes. \n"
   ]
  },
  {
   "cell_type": "code",
   "execution_count": 11,
   "id": "apart-import",
   "metadata": {},
   "outputs": [
    {
     "name": "stdout",
     "output_type": "stream",
     "text": [
      "Uniform 1281x641 grid from (0.0, 0.0) to (2.0, 1.0).\n",
      "The solver converged after 4061 itterations, it took 0:47:17, final residual is 4.9960036108132044e-15\n",
      "Integrated value is  0.11595119458119807 \n",
      "\n",
      "Uniform 641x321 grid from (0.0, 0.0) to (2.0, 1.0).\n",
      "The solver converged after 2018 itterations, it took 0:05:59, final residual is 4.884981308350689e-15\n",
      "Integrated value is  0.11595482347649985 \n",
      "\n",
      "Uniform 321x161 grid from (0.0, 0.0) to (2.0, 1.0).\n",
      "The solver converged after 1020 itterations, it took 0:00:38, final residual is 4.827735433643454e-15\n",
      "Integrated value is  0.11596933925855846 \n",
      "\n",
      "Uniform 161x81 grid from (0.0, 0.0) to (2.0, 1.0).\n",
      "The solver converged after 517 itterations, it took 0:00:03, final residual is 4.911869522228329e-15\n",
      "Integrated value is  0.11602740558304181 \n",
      "\n",
      "Uniform 81x41 grid from (0.0, 0.0) to (2.0, 1.0).\n",
      "The solver converged after 264 itterations, it took 0:00:00, final residual is 3.845881946240581e-15\n",
      "Integrated value is  0.11625972091743786 \n",
      "\n",
      "Uniform 41x21 grid from (0.0, 0.0) to (2.0, 1.0).\n",
      "The solver converged after 136 itterations, it took 0:00:00, final residual is 3.885780586188048e-15\n",
      "Integrated value is  0.11731643012556958 \n",
      "\n",
      "Uniform 21x11 grid from (0.0, 0.0) to (2.0, 1.0).\n",
      "The solver converged after 71 itterations, it took 0:00:00, final residual is 3.913536161803677e-15\n",
      "Integrated value is  0.08531986116064406 \n",
      "\n"
     ]
    }
   ],
   "source": [
    "import datetime # just seconds may not be enough\n",
    "\n",
    "# we need some lists u and dx values\n",
    "U_val = []\n",
    "dx_val = []\n",
    "run_time = []\n",
    "n_pts =[]\n",
    "for grid_index in range(6,-1,-1):\n",
    "    ni = 20*2**grid_index + 1\n",
    "    nj = 10*2**grid_index + 1\n",
    "    n_pts.append(ni*nj)\n",
    "    \n",
    "    # set up the problem\n",
    "    test = Example929(ni,nj)\n",
    "    print(test)\n",
    "    \n",
    "    # solve it with 14 d.p. precision and a lot of itterations\n",
    "    start = time.process_time()\n",
    "    itt, err = SOR(test,tol=0.5e-14,maxit=1000000)\n",
    "    stop = time.process_time()\n",
    "    print(\"The solver converged after {} itterations, it took {}, final residual is {}\" \\\n",
    "          .format(itt,datetime.timedelta(seconds=int(stop-start)),err))\n",
    "\n",
    "    # save dx and the integral\n",
    "    dx_val.append(test.Delta_x())\n",
    "    U_val.append(integrate_u_dx(test,1.0,1.95,0.25))\n",
    "    run_time.append(stop-start)\n",
    "          \n",
    "    print('Integrated value is ',U_val[-1],'\\n')"
   ]
  },
  {
   "cell_type": "code",
   "execution_count": 12,
   "id": "pleasant-cemetery",
   "metadata": {},
   "outputs": [
    {
     "name": "stdout",
     "output_type": "stream",
     "text": [
      "Refinement Analysis on 7 grids.\n",
      "\n",
      "Grid Delta x ratio  \\int_{1.0}^{1.95}u(x,0.25) dx\n",
      "-------------------------------------------------\n",
      "   1 0.001563     2  0.115951\n",
      "   2 0.003125     2  0.115955\n",
      "   3 0.00625     2  0.115969\n",
      "   4  0.0125     2  0.116027\n",
      "   5   0.025     2   0.11626\n",
      "   6    0.05     2  0.117316\n",
      "   7     0.1   --- 0.0853199\n",
      "------------------------------------------------- \n",
      "\n",
      "order of convergence, p =   2.00\n",
      "\n",
      "Grids       GCI\n",
      "---------------\n",
      " 1  2 1.304e-05\n",
      " 2  3 5.216e-05\n",
      " 3  4 0.0002086\n",
      " 4  5 0.0008343\n",
      " 5  6  0.003787\n",
      " 6  7    0.1136\n",
      "---------------\n",
      "\n",
      " Grid Step  GCI Ratio Converged\n",
      "-------------------------------\n",
      " 1 2  2 3           1 True\n",
      " 2 3  3 4           1 True\n",
      " 3 4  4 5           1 True\n",
      " 4 5  5 6      0.8812 False\n",
      " 5 6  6 7      0.1333 False\n",
      "-------------------------------\n",
      "\n"
     ]
    },
    {
     "data": {
      "image/png": "[encoded data removed]",
      "text/plain": [
       "<Figure size 432x288 with 1 Axes>"
      ]
     },
     "metadata": {
      "needs_background": "light"
     },
     "output_type": "display_data"
    }
   ],
   "source": [
    "# lets to the refinement analysis\n",
    "analysis = refinement_analysis(dx_val,U_val)\n",
    "analysis.report(r'\\int_{1.0}^{1.95}u(x,0.25) dx')\n",
    "analysis.plot(True,r'$\\int_{1.0}^{1.95}u(x,0.25) dx$')"
   ]
  },
  {
   "cell_type": "markdown",
   "id": "friendly-plenty",
   "metadata": {},
   "source": [
    "### Analysis\n",
    "\n",
    "The refinement analysis shows\n",
    "* _p_ = 2.0, so our 2nd order method has an apparent order of accuracy of 2.  Which is reasuring.\n",
    "* The graph shows that the coarsest grid (Δx = 0.1) is behaving differently from the other grids which seem to be converging as Δx goes to zero.\n",
    "* The GCI Ratios show that the solution on the five finest grids is safely in the asymptotic region where the error is proprtional to Δx<sup>2</sup>.  This means (for the test problem) we need Δx < 0.025 m. This means we need to use at least the 81 x 41 gird. Which takes less than 1 second to run.\n",
    "\n",
    "Our final choice of grid depends on \n",
    "* How accurate a solution we want, and\n",
    "* How long we are prepared to wait.\n",
    "\n",
    "All this means that the 161 x 81 grid (grid 4, Δx=0.0125) we've been using is fine enough to give a **grid converged** solution and we can be confident that the solution can be used.   If we are prepared to wait a little longer than 2 seconds we can use the 321 x 161 grid and wait 20 seconds for a more accurate answer."
   ]
  },
  {
   "cell_type": "markdown",
   "id": "modular-narrow",
   "metadata": {},
   "source": [
    "## Runtime\n",
    "It's interesting to look at the time taken to get a solution on different sizes of grid. The following log-log graph shows the totoal number of grid points (i.e. _N_ = _Ni_ x _Nj_) plotted against the runtime in seconds.  Plotted like this we can see there is a dramatic increase in the work needed with increasing _N_.  It can be shown that the number of mathematical opperations performed is O(_N_<sup>2</sup>_m_) where _m_ is the number of itterations performed.  \n",
    "\n",
    "Although SOR converges faster than Gauss-Siedel and Jacobi all three can only be proved to converge after an infinite number of itterations.  \n",
    "\n",
    "Faster (but more complicated) Krylov subspace methods can be used which converge in a finite number of itterations. Fortunately for us `scipy.linalg` provides some efficient implementations of these methods which will be looked at in annother workbook."
   ]
  },
  {
   "cell_type": "code",
   "execution_count": 13,
   "id": "labeled-first",
   "metadata": {},
   "outputs": [
    {
     "data": {
      "image/png": "[encoded data removed]",
      "text/plain": [
       "<Figure size 432x288 with 1 Axes>"
      ]
     },
     "metadata": {
      "needs_background": "light"
     },
     "output_type": "display_data"
    }
   ],
   "source": [
    "# plot the runtime\n",
    "plt.loglog(n_pts,run_time,'o')\n",
    "plt.title('Runtime')\n",
    "plt.xlabel('N')\n",
    "plt.ylabel('runtime (s)')\n",
    "plt.show()"
   ]
  },
  {
   "cell_type": "code",
   "execution_count": null,
   "id": "august-whole",
   "metadata": {},
   "outputs": [],
   "source": []
  }
 ],
 "metadata": {
  "kernelspec": {
   "display_name": "Python 3",
   "language": "python",
   "name": "python3"
  },
  "language_info": {
   "codemirror_mode": {
    "name": "ipython",
    "version": 3
   },
   "file_extension": ".py",
   "mimetype": "text/x-python",
   "name": "python",
   "nbconvert_exporter": "python",
   "pygments_lexer": "ipython3",
   "version": "3.9.9"
  }
 },
 "nbformat": 4,
 "nbformat_minor": 5
}
