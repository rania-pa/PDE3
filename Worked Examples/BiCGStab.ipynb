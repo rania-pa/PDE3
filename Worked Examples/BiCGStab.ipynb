{
 "cells": [
  {
   "cell_type": "markdown",
   "id": "worse-harmony",
   "metadata": {},
   "source": [
    "# Stablised Bi-Conjugate Gradient Method\n",
    "\n",
    "***You must have completed the exercises on the worksheet about matrix assembly before proceeding***\n",
    "\n",
    "\n",
    "**BiCGStab** a Krylov-subspace method.  These are a class of mathematical methods for solving the system of equations A**x** = **b** which can be proved to converge in _N_ itterations.  We don't know what _N_ is and it may be quite large but it is not infinite.  The Jacobi, Gauss-Siedel and SOR schemes, on the other hand, can only be shown to solve  A**x** = **b** exactly after an infinite number of itterations!\n",
    "\n",
    "Like all Krylov-subspace methods **BiCGStab** is a complicated algorithm and coding it efficiently and without error takes care and attention.  Fortunately `scipy.linalg` provides efficient implementatons of the most common Krylov-subspace methods including **BiCGStab**.\n",
    "\n",
    "When solving elliptical problems (or large linear systems) it is best to use professional written library routines like **BiCGStab**.  These will make most efficient use of the processor pipeline resulting in a faster runtime and lower a cost of computation (in terms of energy usage).\n",
    "\n",
    "As before we are going to use our Grid Class"
   ]
  },
  {
   "cell_type": "code",
   "execution_count": 1,
   "id": "heard-stock",
   "metadata": {
    "tags": []
   },
   "outputs": [],
   "source": [
    "import numpy as np\n",
    "import matplotlib.pyplot as plt\n",
    "import time\n",
    "\n",
    "class Grid:\n",
    "    '''Class defining a 2D computational grid.  The grid object\n",
    "    contains is a regular cartesian grid with a single variable, u.\n",
    "    It stores information about the number of grid points in the i\n",
    "    and j directions, the ordinates of these points and the bottom\n",
    "    left corner of the gird (the origin) and the top right corner\n",
    "    (the extent).\n",
    "    \n",
    "    Written by Prof David Ingram, School of Engineering\n",
    "    (c) 2021 The University of Edinburgh\n",
    "    Licensed under CC-BY-NC.'''\n",
    "    \n",
    "    DIRICHLET_BC = 0\n",
    "    NEUMANN_BC = 1\n",
    "\n",
    "    BC_NAME = ['left', 'right', 'top', 'bottom']\n",
    "    \n",
    "    def __init__(self,ni,nj):\n",
    "        # set up information about the grid\n",
    "        self.origin = (0.0, 0.0)  # bottom left\n",
    "        self.extent = (1.0, 1.0)  # top right\n",
    "        self.Ni = ni # grid points in i direction\n",
    "        self.Nj = nj # grid points in j direction\n",
    "        \n",
    "        # initialse x,y and u arrays\n",
    "        self.u = np.zeros((nj, ni))\n",
    "        self.x = np.zeros((nj, ni))\n",
    "        self.y = np.zeros((nj, ni))\n",
    "        \n",
    "        # boundary conditions (left right top and bottom)\n",
    "        self.BC = [self.DIRICHLET_BC, self.DIRICHLET_BC, \n",
    "                   self.DIRICHLET_BC, self.DIRICHLET_BC]\n",
    "\n",
    "    def set_origin(self,x0,y0):\n",
    "        self.origin = (x0, y0)\n",
    "    \n",
    "    def set_extent(self,x1,y1):\n",
    "        self.extent = (x1, y1)\n",
    "        \n",
    "    def generate(self,Quiet=True):\n",
    "        '''generate a uniformly spaced grid covering the domain from the\n",
    "        origin to the extent.  We are going to do this using linspace from\n",
    "        numpy to create lists of x and y ordinates and then the meshgrid\n",
    "        function to turn these into 2D arrays of grid point ordinates.'''\n",
    "        x_ord = np.linspace(self.origin[0], self.extent[0], self.Ni)\n",
    "        y_ord = np.linspace(self.origin[1], self.extent[1], self.Nj)\n",
    "        self.x, self.y = np.meshgrid(x_ord,y_ord)\n",
    "        if not Quiet:\n",
    "            print(self)\n",
    "\n",
    "    def Delta_x(self):\n",
    "        # calculate delta x\n",
    "        return self.x[0,1]-self.x[0,0]\n",
    "    \n",
    "    def Delta_y(self):\n",
    "        # calculate delta y\n",
    "        return self.y[1,0]-self.y[0,0]\n",
    "    \n",
    "    def find(self,point):\n",
    "        '''find the i and j ordinates of the grid cell which contains \n",
    "        the point (x,y).  To do this we calculate the distance from\n",
    "        the point to the origin in the x and y directions and then\n",
    "        divide this by delta x and delta y.  The resulting real ordinates\n",
    "        are converted to indices using the int() function.'''\n",
    "        grid_x = (point[0] - self.origin[0])/self.Delta_x()\n",
    "        grid_y = (point[1] - self.origin[1])/self.Delta_y()\n",
    "        return int(grid_x), int(grid_y)\n",
    "    \n",
    "    def set_Neumann_bc(self,side):\n",
    "        try:\n",
    "             self.BC[self.BC_NAME.index(side)] = self.NEUMANN_BC\n",
    "        except:\n",
    "             print('error {} must be one of {}'.format(side,self.BC_NAME))\n",
    "     \n",
    "    def set_Dirichlet_bc(self,side):\n",
    "        try:\n",
    "            self.BC[self.BC_NAME.index(side)] = self.DIRICHLET_BC\n",
    "        except:\n",
    "            print('error {} must be one of {}'.format(side,self.BC_NAME))\n",
    "    \n",
    "    def report_BC(self):\n",
    "        '''compile a string listing the boundary conditions on each side.\n",
    "        We build up a string of four {side name}: {BC type} pairs and\n",
    "        return it'''\n",
    "        \n",
    "        # initialise the string\n",
    "        string = ''\n",
    "        \n",
    "        # loop over the sides\n",
    "        for side in range(4):\n",
    "            # add the side name\n",
    "            string = string + self.BC_NAME[side]\n",
    "            # and the bounday condition type\n",
    "            if self.BC[side] == self.DIRICHLET_BC:\n",
    "                string = string + ': Dirichlet, '\n",
    "            elif self.BC[side] == self.NEUMANN_BC:\n",
    "                string = string + ': Neumann, '\n",
    "        return string[:-2] +'.' # lose the last comma and space.\n",
    "    \n",
    "    def __str__(self):\n",
    "        # describe the object when asked to print it\n",
    "        describe = 'Uniform {}x{} grid from {} to {}.'.format(self.Ni, self.Nj, self.origin, self.extent)\n",
    "        boundaries = self.report_BC()\n",
    "        return describe + '\\nBoundaries conditions are - ' + boundaries"
   ]
  },
  {
   "cell_type": "markdown",
   "id": "pending-patrol",
   "metadata": {},
   "source": [
    "## Matrix Assembly\n",
    "Because **BiCGStab** (and the other Krylov-subspace methods) are designed to solve A**x** = **b** our solver must construct the coefficient matrix _A_ andf the right hand side vector **b**.  _A_ will be an _N_ x _N_ matrix, where _N_ = _N<sub>i</sub>_ x _N<sub>j</sub>_. Because each linear equation only includes the coeeficients asociated with the North, East, South, West and Centre points of the stencil each row of A will have a maximum of five non-zero entries.  If we store  _A_  as a **sparse** matrix we will only store the non-zero values and we will use a lot less memory.\n",
    "\n",
    "Our solution process is:\n",
    "1. Assemble _A_ and **b**\n",
    "2. Solve A**x** = **b** \n",
    "3. Unpack the solution vector, **x**, into the array `grid.u`\n",
    "\n",
    "In assembling the matrix we are going to use the same ideas we used in accelerating the SOR solver. We will introduce an index _k_ \n",
    "\n",
    "    k = (i-1) + (Ni-2)*(j-1) \n",
    "\n",
    "where _k_ is the row number in the matrix _A_.  Unlike in the `Laplace-faster workbook` `i` and `j` will only loop over the interior points in the grid.\n",
    "\n",
    "Let's try creating the coefficient matrix for a 11 x 11 grid and plotting it with `matplotlib.pyplot.spy()` which shows the non-zero values."
   ]
  },
  {
   "cell_type": "code",
   "execution_count": 2,
   "id": "above-sheriff",
   "metadata": {},
   "outputs": [
    {
     "name": "stdout",
     "output_type": "stream",
     "text": [
      "Uniform 11x11 grid from (0.0, 0.0) to (1.0, 1.0).\n",
      "Boundaries conditions are - left: Dirichlet, right: Dirichlet, top: Dirichlet, bottom: Neumann.\n"
     ]
    },
    {
     "data": {
      "image/png": "[encoded data removed]",
      "text/plain": [
       "<Figure size 432x288 with 1 Axes>"
      ]
     },
     "metadata": {
      "needs_background": "light"
     },
     "output_type": "display_data"
    },
    {
     "name": "stdout",
     "output_type": "stream",
     "text": [
      "A matrix has 369 non-zero entries out of 6561 (94.4% sparsity)\n"
     ]
    }
   ],
   "source": [
    "import scipy.sparse as sps\n",
    "\n",
    "# a simple test problem using the Unit Square with the bottom bounday\n",
    "# as a Neumann boundary condition. All the Dirichlet boundaries are \n",
    "# set to u=1 (so nothing will happen).\n",
    "\n",
    "test = Grid(11,11)\n",
    "test.u[:,:]=1\n",
    "test.set_Neumann_bc('bottom')\n",
    "test.generate()\n",
    "print(test)\n",
    "\n",
    "# we will create the matrix using the lil format, this is\n",
    "# fast for row opperations.\n",
    "N = (test.Nj-2)*(test.Ni-2)\n",
    "A_mat = sps.lil_matrix((N, N), dtype=np.float64)\n",
    "\n",
    "# matrix assembly  This time we will only put a 1 in the matrix to \n",
    "# indicate non-zero values\n",
    "\n",
    "for j in range(1, test.Nj-1):\n",
    "    for i in range(1, test.Ni-1):\n",
    "        k = (i-1) + (test.Ni-2)*(j-1)\n",
    "        A_mat[k,k]=1\n",
    "        # North boundary\n",
    "        if j<test.Nj-2:\n",
    "            A_mat[k,k+(test.Ni-2)]=1\n",
    "        # South boundary\n",
    "        if j>1:\n",
    "            A_mat[k,k-(test.Ni-2)]=1\n",
    "        # East boundary\n",
    "        if i<test.Ni-2:\n",
    "            A_mat[k,k+1]=1\n",
    "        # West boundary\n",
    "            A_mat[k,k-1]=1\n",
    "\n",
    "plt.spy(A_mat, markersize=2, aspect='equal')\n",
    "plt.show()\n",
    "\n",
    "print('A matrix has {} non-zero entries out of {} ({:.1f}% sparsity)'.format\n",
    "      (A_mat.nnz,N**2,(1-A_mat.nnz/(N**2))*100))"
   ]
  },
  {
   "cell_type": "markdown",
   "id": "developmental-illness",
   "metadata": {},
   "source": [
    "We can see the penta-diagonal matrix structure we expected.\n",
    "\n",
    "## Coefficient values\n",
    "We now need to fill in the correct coefficient values.\n",
    "\n",
    "If we look at our linear system we have (for an interior point)\n",
    "$$u_O-\\frac{1}{2(1+\\beta^2)}(u_E+u_W)-\\frac{\\beta^2}{2(1+\\beta^2)}(u_N+u_S)=0.$$\n",
    "So the coefficients of the East and West points are\n",
    "$$r_x=-\\frac{1}{2(1+\\beta^2)}$$\n",
    "and the coefficients of the North and South points are\n",
    "$$r_y=-\\frac{\\beta^2}{2(1+\\beta^2)}.$$"
   ]
  },
  {
   "cell_type": "code",
   "execution_count": 3,
   "id": "tamil-croatia",
   "metadata": {},
   "outputs": [
    {
     "data": {
      "image/png": "[encoded data removed]",
      "text/plain": [
       "<Figure size 432x288 with 1 Axes>"
      ]
     },
     "metadata": {
      "needs_background": "light"
     },
     "output_type": "display_data"
    },
    {
     "name": "stdout",
     "output_type": "stream",
     "text": [
      "A matrix has 369 non-zero entries out of 6561 (94.4% sparsity)\n"
     ]
    }
   ],
   "source": [
    "# recreate A\n",
    "A_mat = sps.lil_matrix((N, N), dtype=np.float64)\n",
    "\n",
    "# calculate the coefficients\n",
    "beta = test.Delta_x()/test.Delta_y()\n",
    "beta_sq = beta**2\n",
    "R_x = - 1/(2*(1+beta_sq))\n",
    "R_y = beta_sq * R_x\n",
    "\n",
    "# matrix assembly  This time we will only put a 1 in the matrix to \n",
    "# indicate non-zero values\n",
    "for j in range(1, test.Nj-1):\n",
    "    for i in range(1, test.Ni-1):\n",
    "        k = (i-1) + (test.Ni-2)*(j-1)\n",
    "        A_mat[k,k]=1\n",
    "        # North boundary\n",
    "        if j<test.Nj-2:\n",
    "            A_mat[k,k+(test.Ni-2)]=R_y\n",
    "        # South boundary\n",
    "        if j>1:\n",
    "            A_mat[k,k-(test.Ni-2)]=R_y\n",
    "        # East boundary\n",
    "        if i<test.Ni-2:\n",
    "            A_mat[k,k+1]=R_x\n",
    "        # West boundary\n",
    "            A_mat[k,k-1]=R_x\n",
    "\n",
    "plt.spy(A_mat, markersize=2, aspect='equal')\n",
    "plt.show()\n",
    "\n",
    "print('A matrix has {} non-zero entries out of {} ({:.1f}% sparsity)'.format\n",
    "      (A_mat.nnz,N**2,(1-A_mat.nnz/(N**2))*100))\n"
   ]
  },
  {
   "cell_type": "markdown",
   "id": "sustainable-idaho",
   "metadata": {},
   "source": [
    "## The RHS vector, **b**.\n",
    "\n",
    "At the same time as we assemble _A_ we need to fill in the values of **b**.  We know that if we have a Dirichlet boundary condition on the East or West boundaries then \n",
    "$$b_k=-r_x u_{bc},$$\n",
    "while on the North and South boundaries\n",
    "$$b_k=-r_y u_{bc}.$$\n",
    "\n",
    "In the case of the Neumann boundary condition _b<sub>k</sub>_= 0 **but** the coefficient of the interior point in the _A_ matrix must be updated.  The following table gives the actions:\n",
    "\n",
    "| boundary | Dirichlet | Neumann |\n",
    "|----------|-----------|---------|\n",
    "| North|  `b[k] = -Ry*u[j+1,i]` | `A[k,k+(Ni-2)] = 2*A[k,k+(Ni-2)]` |\n",
    "| East | `b[k] = -Rx*u[j,i+1]` | `A[k,k+1] = 2*A[k,k+1]` |\n",
    "| South | `b[k] = -Ry*u[j-1,i]` | `A[k,k-(Ni-2)] = 2*A[k,k-(Ni-2)]` |\n",
    "| West | `b[k] = -Rx*u[,i-1]` | `A[k,k-1] = 2*A[k,k-1]` |\n",
    "\n"
   ]
  },
  {
   "cell_type": "code",
   "execution_count": 4,
   "id": "worth-princeton",
   "metadata": {},
   "outputs": [
    {
     "name": "stdout",
     "output_type": "stream",
     "text": [
      "[0.25 0.   0.   0.   0.   0.   0.   0.   0.25 0.25 0.   0.   0.   0.\n",
      " 0.   0.   0.   0.25 0.25 0.   0.   0.   0.   0.   0.   0.   0.25 0.25\n",
      " 0.   0.   0.   0.   0.   0.   0.   0.25 0.25 0.   0.   0.   0.   0.\n",
      " 0.   0.   0.25 0.25 0.   0.   0.   0.   0.   0.   0.   0.25 0.25 0.\n",
      " 0.   0.   0.   0.   0.   0.   0.25 0.25 0.   0.   0.   0.   0.   0.\n",
      " 0.   0.25 0.5  0.25 0.25 0.25 0.25 0.25 0.25 0.25 0.5 ]\n"
     ]
    }
   ],
   "source": [
    "# create A and b\n",
    "A_mat = sps.lil_matrix((N, N), dtype=np.float64)\n",
    "b_vec = np.zeros(N)\n",
    "\n",
    "# calculate the coefficients\n",
    "beta = test.Delta_x()/test.Delta_y()\n",
    "beta_sq = beta**2\n",
    "R_x = - 1/(2*(1+beta_sq))\n",
    "R_y = beta_sq * R_x\n",
    "\n",
    "# matrix assembly \n",
    "for j in range(1, test.Nj-1):\n",
    "    for i in range(1, test.Ni-1):\n",
    "        k = (i-1) + (test.Ni-2)*(j-1)\n",
    "        A_mat[k,k]=1\n",
    "        \n",
    "        # North boundary\n",
    "        if j<test.Nj-2:\n",
    "            A_mat[k,k+(test.Ni-2)] += R_y\n",
    "        elif (test.BC[2]== test.NEUMANN_BC):\n",
    "            A_mat[k,k-(test.Ni-2)] += R_y\n",
    "        else:\n",
    "            b_vec[k] += -R_y*test.u[j+1,i]\n",
    "            \n",
    "        # South boundary\n",
    "        if j>1:\n",
    "            A_mat[k,k-(test.Ni-2)]=R_y\n",
    "        elif (test.BC[3]== test.NEUMANN_BC):\n",
    "            A_mat[k,k+(test.Ni-2)] += R_y\n",
    "        else:\n",
    "            b_vec[k] += -R_y*test.u[j-1,i]\n",
    "            \n",
    "        # East boundary\n",
    "        if i<test.Ni-2:\n",
    "            A_mat[k,k+1]=R_x\n",
    "        elif (test.BC[1]== test.NEUMANN_BC):\n",
    "            A_mat[k,k-1] += R_y\n",
    "        else:\n",
    "            b_vec[k] += -R_y*test.u[j,i+1]\n",
    "            \n",
    "\n",
    "        # West boundary\n",
    "        if i>1:\n",
    "            A_mat[k,k-1]=R_x\n",
    "        elif (test.BC[0]== test.NEUMANN_BC):\n",
    "            A_mat[k,k+1] += R_y\n",
    "        else:\n",
    "            b_vec[k] += -R_y*test.u[j,i-1]\n",
    "\n",
    "print(b_vec)"
   ]
  },
  {
   "cell_type": "markdown",
   "id": "boxed-condition",
   "metadata": {},
   "source": [
    "# Calling the solver\n",
    "Now we can call the solver\n"
   ]
  },
  {
   "cell_type": "code",
   "execution_count": 5,
   "id": "excess-privilege",
   "metadata": {},
   "outputs": [
    {
     "name": "stdout",
     "output_type": "stream",
     "text": [
      "Solved \n",
      " x = [1. 1. 1. 1. 1. 1. 1. 1. 1. 1. 1. 1. 1. 1. 1. 1. 1. 1. 1. 1. 1. 1. 1. 1.\n",
      " 1. 1. 1. 1. 1. 1. 1. 1. 1. 1. 1. 1. 1. 1. 1. 1. 1. 1. 1. 1. 1. 1. 1. 1.\n",
      " 1. 1. 1. 1. 1. 1. 1. 1. 1. 1. 1. 1. 1. 1. 1. 1. 1. 1. 1. 1. 1. 1. 1. 1.\n",
      " 1. 1. 1. 1. 1. 1. 1. 1. 1.]\n"
     ]
    }
   ],
   "source": [
    "import scipy.sparse.linalg as LA\n",
    "\n",
    "# call bicgstab\n",
    "x_vec, info = LA.bicgstab(A_mat,b_vec,tol=0.5e-12)\n",
    "if info==0:\n",
    "    print('Solved ')\n",
    "    print(' x =',x_vec)\n",
    "else:\n",
    "    print('Error code =',info)\n"
   ]
  },
  {
   "cell_type": "markdown",
   "id": "musical-wrestling",
   "metadata": {},
   "source": [
    "This is what we wanted to happen.\n",
    "\n",
    "## Putting it all together\n",
    "\n",
    "We can now write a function to solve the system"
   ]
  },
  {
   "cell_type": "code",
   "execution_count": 6,
   "id": "nasty-worth",
   "metadata": {},
   "outputs": [],
   "source": [
    "def LaplaceSolver(grid,tol=0.5e-7):\n",
    "    '''Solve the two dimensional laplace equation using the bi-conjugate\n",
    "    gradient stabilised matrix solver (BiCGStab).  This function assembles\n",
    "    the coeficient matrix A and the RHS vector b taking account of the \n",
    "    boundary conditions specified in the grid object and calls the sparse\n",
    "    BiCGStab solver from scipy.  The value tol is passed to BiCGStab routine\n",
    "    The solution vector x is then unpacked into grid.u. It returns the info\n",
    "    value from BiCGStab if this is zero everything worked.\n",
    "    \n",
    "    Writen by D Ingram\n",
    "    (c) 2021 The University of Edinburgh\n",
    "    Licenced CC-BY.\n",
    "    '''\n",
    "    \n",
    "    # Create the A matrix using the lil format and the b vector\n",
    "    # as numpy vector.\n",
    "    N = (grid.Nj-2)*(grid.Ni-2)\n",
    "    A_mat = sps.lil_matrix((N, N), dtype=np.float64)\n",
    "    b_vec = np.zeros(N, dtype=np.float64)\n",
    "\n",
    "    # calculate the coefficients\n",
    "    beta = grid.Delta_x()/grid.Delta_y()\n",
    "    beta_sq = beta**2\n",
    "    R_x = - 1/(2*(1+beta_sq))\n",
    "    R_y = beta_sq * R_x\n",
    "\n",
    "\n",
    "    # matrix assembly. We're going to use += to add values to the matrix\n",
    "    # coeeficients and the RHS vector as boundary conditions could cause\n",
    "    # issues.  This is safe to do because both np.zeros and the sparse\n",
    "    # matrix creator initialise the values in the arrays to zero.\n",
    "    for j in range(1, grid.Nj-1):\n",
    "        for i in range(1, grid.Ni-1):\n",
    "            k = (i-1) + (grid.Ni-2)*(j-1)\n",
    "            A_mat[k,k]=1\n",
    "        \n",
    "            # Left boundary\n",
    "            if i>1:\n",
    "                A_mat[k,k-1] += R_x\n",
    "            elif (grid.BC[0] == grid.NEUMANN_BC):\n",
    "                A_mat[k,k+1] += R_x\n",
    "            else:\n",
    "                b_vec[k] += -R_x*grid.u[j,i-1]\n",
    "\n",
    "            # Right boundary\n",
    "            if i<grid.Ni-2:\n",
    "                A_mat[k,k+1] +=R_x\n",
    "            elif (grid.BC[1] == grid.NEUMANN_BC):\n",
    "                A_mat[k,k-1] += R_x\n",
    "            else:\n",
    "                b_vec[k] += -R_x*grid.u[j,i+1]\n",
    "            \n",
    "            # Bottom boundary\n",
    "            if j>1:\n",
    "                A_mat[k,k-(grid.Ni-2)] += R_y\n",
    "            elif (grid.BC[3]== grid.NEUMANN_BC):\n",
    "                A_mat[k,k+(grid.Ni-2)] += R_y\n",
    "            else:\n",
    "                b_vec[k] += -R_y*grid.u[j-1,i]\n",
    "   \n",
    "            # South boundary\n",
    "            if j<grid.Nj-2:\n",
    "                A_mat[k,k+(grid.Ni-2)] += R_y\n",
    "            elif (grid.BC[2]== grid.NEUMANN_BC):\n",
    "                A_mat[k,k-(grid.Ni-2)] += R_y\n",
    "            else:\n",
    "                b_vec[k] += -R_y*grid.u[j+1,i]\n",
    "\n",
    "    # call bicgstab\n",
    "    \n",
    "    x_vec, info = LA.bicgstab(A_mat,b_vec,tol=tol)\n",
    "    if info==0:\n",
    "        # unpack x_vec into u\n",
    "        for j in range(1, grid.Nj-1):\n",
    "            for i in range(1, grid.Ni-1):\n",
    "                k = (i-1) + (grid.Ni-2)*(j-1)\n",
    "                grid.u[j,i]=x_vec[k]\n",
    "    \n",
    "    return info"
   ]
  },
  {
   "cell_type": "markdown",
   "id": "atlantic-oxide",
   "metadata": {},
   "source": [
    "## The original test problem\n",
    "Were going to use the same test problem as before to make sure it still works! \n",
    "\n",
    "$$0=u_{xx}+u_{yy}$$\n",
    "subject to the boundary conditions\n",
    "$$\\begin{align*}\n",
    "u(x,0)&=0&0\\le x\\le 2 \\\\\n",
    "u(x,1)&=0&0\\le x\\le 2 \\\\\n",
    "u(0,y)&=0&0\\le y \\le 1\\\\\n",
    "u(2,y)&=\\sin 2\\pi y&0\\le y \\le 1.\n",
    "\\end{align*}$$"
   ]
  },
  {
   "cell_type": "code",
   "execution_count": 7,
   "id": "catholic-motion",
   "metadata": {},
   "outputs": [],
   "source": [
    "def Example929(ni,nj):\n",
    "    # set up a mesh\n",
    "    mesh = Grid(ni,nj)\n",
    "    mesh.set_extent(2.0,1.0)\n",
    "    mesh.generate()\n",
    "    # now the RHS boundary condition\n",
    "    mesh.u[:,-1]=np.sin(2*np.pi*mesh.y[:,-1])\n",
    "    return mesh"
   ]
  },
  {
   "cell_type": "code",
   "execution_count": 18,
   "id": "secondary-configuration",
   "metadata": {},
   "outputs": [
    {
     "name": "stdout",
     "output_type": "stream",
     "text": [
      "Uniform 161x81 grid from (0.0, 0.0) to (2.0, 1.0).\n",
      "Boundaries conditions are - left: Dirichlet, right: Dirichlet, top: Dirichlet, bottom: Dirichlet.\n",
      "Solver took 0.347 seconds.\n"
     ]
    },
    {
     "data": {
      "image/png": "[encoded data removed]",
      "text/plain": [
       "<Figure size 432x288 with 2 Axes>"
      ]
     },
     "metadata": {
      "needs_background": "light"
     },
     "output_type": "display_data"
    }
   ],
   "source": [
    "# Test problem on a fine grid\n",
    "test = Example929(161,81)\n",
    "print(test)\n",
    "\n",
    "# run the solver\n",
    "start = time.process_time()\n",
    "info = LaplaceSolver(test)\n",
    "stop = time.process_time()\n",
    "print(\"Solver took {:.3g} seconds.\".format(stop-start))\n",
    "\n",
    "if info==0:\n",
    "    # plot the solution\n",
    "    fig, ax1 = plt.subplots()\n",
    "    cmap = plt.get_cmap('PiYG')\n",
    "    cf = ax1.contourf(test.x,test.y,test.u,cmap=cmap, levels = 21)\n",
    "    fig.colorbar(cf, ax=ax1)\n",
    "    ax1.set_title(f'Example 9.29 ({test.Ni} x {test.Nj} grid)')\n",
    "    plt.show()\n",
    "else:\n",
    "    print('Error code ',info,' returned by BiCGStab')"
   ]
  },
  {
   "cell_type": "markdown",
   "id": "painful-spread",
   "metadata": {},
   "source": [
    "### Porous Flow\n",
    "\n",
    "Water seeping through a porous medium can be modelled using the Laplace equation.  If we have a \"box\" _z<sub>0</sub>_ meters tall and _s_ meters wide with a linear pressure gradient _h = z<sub>0</sub> + cx_ applied at the upper boundary, an impermeable base and constant flow boundaries on the left and right.  The pressure in the medium can be modlled as\n",
    "\n",
    "$$h_{zz}+h_{xx}=0$$ with boundary conditions\n",
    "\n",
    "$$h_z(x,0)=0,\\,h_x(0,z)=0\\text{ and }h_x(s,z)=0$$\n",
    "and\n",
    "$$h(x,z_0)=z_0+c x.$$\n",
    "\n",
    "This test problem has an anlytical solution developed by Toth (1962):\n",
    "$$h(x,z) = z_0+\\frac{cs}{2}-\\frac{4cs}{\\pi^2}\\sum_{m=0}^\\infty \n",
    "\\frac{\\cos[(2m+1)\\pi x/s]\\cosh[(2m+1)\\pi z/s]}\n",
    "{(2m+1)^2\\cosh[(2m+1)\\pi z_0/s]}.$$\n",
    "\n",
    "Let us consider a 200 wide by 100 m deep medium with _c_ = 0.176."
   ]
  },
  {
   "cell_type": "code",
   "execution_count": 9,
   "id": "sustainable-roman",
   "metadata": {},
   "outputs": [],
   "source": [
    "def porous(ni,nj):\n",
    "    # set up a mesh\n",
    "    mesh = Grid(ni,nj)\n",
    "    mesh.set_extent(200.0,100.0)\n",
    "    mesh.generate()\n",
    "    # set the boundary conditions\n",
    "    mesh.set_Neumann_bc('left')\n",
    "    mesh.set_Neumann_bc('right')\n",
    "    mesh.set_Neumann_bc('bottom')\n",
    "\n",
    "    # now the top boundary condition\n",
    "    mesh.u[-1,:]=100.0 + 0.176 * mesh.x[-1,:]\n",
    "    return mesh    "
   ]
  },
  {
   "cell_type": "code",
   "execution_count": 10,
   "id": "fewer-offering",
   "metadata": {},
   "outputs": [
    {
     "name": "stdout",
     "output_type": "stream",
     "text": [
      "Uniform 161x81 grid from (0.0, 0.0) to (200.0, 100.0).\n",
      "Boundaries conditions are - left: Neumann, right: Neumann, top: Dirichlet, bottom: Neumann.\n",
      "Solver took 1.65 seconds.\n"
     ]
    },
    {
     "data": {
      "image/png": "[encoded data removed]",
      "text/plain": [
       "<Figure size 432x288 with 2 Axes>"
      ]
     },
     "metadata": {
      "needs_background": "light"
     },
     "output_type": "display_data"
    }
   ],
   "source": [
    "# Test problem on a fine grid\n",
    "test = porous(161,81)\n",
    "print(test)\n",
    "\n",
    "# run the solver\n",
    "start = time.process_time()\n",
    "info = LaplaceSolver(test)\n",
    "stop = time.process_time()\n",
    "print(\"Solver took {:.3g} seconds.\".format(stop-start))\n",
    "\n",
    "if info==0:\n",
    "    # plot the solution\n",
    "    fig, ax1 = plt.subplots()\n",
    "    cmap = plt.get_cmap('jet')\n",
    "    cf = ax1.contourf(test.x[1:-1,1:-1],test.y[1:-1,1:-1],test.u[1:-1,1:-1],cmap=cmap,levels = 21)\n",
    "    fig.colorbar(cf, ax=ax1)\n",
    "    ax1.set_title(f'Example 9.29 ({test.Ni} x {test.Nj} grid)')\n",
    "    plt.show()\n",
    "else:\n",
    "    print('Error code ',info,' returned by BiCGStab')"
   ]
  },
  {
   "cell_type": "markdown",
   "id": "composite-advisory",
   "metadata": {},
   "source": [
    "### Analysis\n",
    "The `LaplaceSolver()` function is working effectively for both the test problems.  The runtime on a 161 x 81 grid is 5.11 seconds for the original test case and 6.98 seconds for the porous test case.  Compared with 2.54 seconds and 12 seconds for the SOR solver.  These could be reduced a little by writing the unpacking part of the function more efficiently.\n",
    "\n",
    "We can speed up the `sparse.linalg.BiCGStab()` routine by using a pre-conditioner.  This computes an approximate inverse of _A_ which can be used to speed up the calculation.  In this case we will use the incomplete LU factorisation, `sparse.linalg.spilu()`.\n",
    "\n",
    "The steps to do this are:\n",
    "* assemble the _A_ matrix\n",
    "* compute the incomplete LU facortisation _M_\n",
    "* call BiCGStab passigf _A_, **b** and _M_.\n",
    "\n",
    "A complexity is that `sparse.linalg.spilu()` uses a different format of matrix, fortunately the `lil` format is easily converted.  We replace the original call to `sparse.linalg.bicgstab()` with\n",
    "\n",
    "    ilu = LA.spilu(A_mat.tocsc())\n",
    "    M_mat = LA.LinearOperator(A_mat.shape, ilu.solve)\n",
    "    x_vec, info = LA.bicgstab(A_mat,b_vec,tol=tol,M=M_mat)\n"
   ]
  },
  {
   "cell_type": "code",
   "execution_count": 11,
   "id": "inclusive-overhead",
   "metadata": {},
   "outputs": [],
   "source": [
    "def LaplaceSolver(grid,tol=0.5e-7):\n",
    "    '''Solve the two dimensional laplace equation using the bi-conjugate\n",
    "    gradient stabilised matrix solver (BiCGStab).  This function assembles\n",
    "    the coeficient matrix A and the RHS vector b taking account of the \n",
    "    boundary conditions specified in the grid object and calls the sparse\n",
    "    BiCGStab solver from scipy.  The value tol is passed to BiCGStab routine\n",
    "    The solution vector x is then unpacked into grid.u. It returns the info\n",
    "    value from BiCGStab if this is zero everything worked.\n",
    "    \n",
    "    Writen by D Ingram\n",
    "    (c) 2021 The University of Edinburgh\n",
    "    Licenced CC-BY.\n",
    "    '''\n",
    "    \n",
    "    # Create the A matrix using the lil format and the b vector\n",
    "    # as numpy vector.\n",
    "    N = (grid.Nj-2)*(grid.Ni-2)\n",
    "    A_mat = sps.lil_matrix((N, N), dtype=np.float64)\n",
    "    b_vec = np.zeros(N, dtype=np.float64)\n",
    "\n",
    "    # calculate the coefficients\n",
    "    beta = grid.Delta_x()/grid.Delta_y()\n",
    "    beta_sq = beta**2\n",
    "    R_x = - 1/(2*(1+beta_sq))\n",
    "    R_y = beta_sq * R_x\n",
    "\n",
    "\n",
    "    # matrix assembly. We're going to use += to add values to the matrix\n",
    "    # coeeficients and the RHS vector as boundary conditions could cause\n",
    "    # issues.  This is safe to do because both np.zeros and the sparse\n",
    "    # matrix creator initialise the values in the arrays to zero.\n",
    "    for j in range(1, grid.Nj-1):\n",
    "        for i in range(1, grid.Ni-1):\n",
    "            k = (i-1) + (grid.Ni-2)*(j-1)\n",
    "            A_mat[k,k]=1\n",
    "        \n",
    "            # Left boundary\n",
    "            if i>1:\n",
    "                A_mat[k,k-1] += R_x\n",
    "            elif (grid.BC[0] == grid.NEUMANN_BC):\n",
    "                A_mat[k,k+1] += R_x\n",
    "            else:\n",
    "                b_vec[k] += -R_x*grid.u[j,i-1]\n",
    "\n",
    "            # Right boundary\n",
    "            if i<grid.Ni-2:\n",
    "                A_mat[k,k+1] +=R_x\n",
    "            elif (grid.BC[1] == grid.NEUMANN_BC):\n",
    "                A_mat[k,k-1] += R_x\n",
    "            else:\n",
    "                b_vec[k] += -R_x*grid.u[j,i+1]\n",
    "            \n",
    "            # Bottom boundary\n",
    "            if j>1:\n",
    "                A_mat[k,k-(grid.Ni-2)] += R_y\n",
    "            elif (grid.BC[3]== grid.NEUMANN_BC):\n",
    "                A_mat[k,k+(grid.Ni-2)] += R_y\n",
    "            else:\n",
    "                b_vec[k] += -R_y*grid.u[j-1,i]\n",
    "   \n",
    "            # South boundary\n",
    "            if j<grid.Nj-2:\n",
    "                A_mat[k,k+(grid.Ni-2)] += R_y\n",
    "            elif (grid.BC[2]== grid.NEUMANN_BC):\n",
    "                A_mat[k,k-(grid.Ni-2)] += R_y\n",
    "            else:\n",
    "                b_vec[k] += -R_y*grid.u[j+1,i]\n",
    "\n",
    "    # call bicgstab with an ILU preconditioner, drop_tol and\n",
    "    # fill factor control the accuracy of the ILU approximation.\n",
    "    ilu = LA.spilu(A_mat.tocsc(), drop_tol=1e-6, fill_factor=100)\n",
    "    M_mat = LA.LinearOperator(A_mat.shape, ilu.solve)\n",
    "    x_vec, info = LA.bicgstab(A_mat,b_vec,atol=tol,M=M_mat)\n",
    "\n",
    "    if info<=0:\n",
    "        # unpack x_vec into u\n",
    "        for j in range(1, grid.Nj-1):\n",
    "            for i in range(1, grid.Ni-1):\n",
    "                k = (i-1) + (grid.Ni-2)*(j-1)\n",
    "                grid.u[j,i]=x_vec[k]\n",
    "    \n",
    "    return info\n",
    "\n"
   ]
  },
  {
   "cell_type": "code",
   "execution_count": 12,
   "id": "royal-vault",
   "metadata": {},
   "outputs": [
    {
     "name": "stdout",
     "output_type": "stream",
     "text": [
      "Uniform 161x81 grid from (0.0, 0.0) to (200.0, 100.0).\n",
      "Boundaries conditions are - left: Neumann, right: Neumann, top: Dirichlet, bottom: Neumann.\n",
      "Solver took 0.392 seconds.\n"
     ]
    },
    {
     "data": {
      "image/png": "[encoded data removed]",
      "text/plain": [
       "<Figure size 432x288 with 2 Axes>"
      ]
     },
     "metadata": {
      "needs_background": "light"
     },
     "output_type": "display_data"
    }
   ],
   "source": [
    "# Test problem on a fine grid\n",
    "test = porous(161,81)\n",
    "print(test)\n",
    "\n",
    "# run the solver\n",
    "start = time.process_time()\n",
    "info = LaplaceSolver(test)\n",
    "stop = time.process_time()\n",
    "print(\"Solver took {:.3g} seconds.\".format(stop-start))\n",
    "\n",
    "if info==0:\n",
    "    # plot the solution\n",
    "    fig, ax1 = plt.subplots()\n",
    "    cmap = plt.get_cmap('jet')\n",
    "    cf = ax1.contourf(test.x[1:-1,1:-1],test.y[1:-1,1:-1],test.u[1:-1,1:-1],cmap=cmap,levels = 21)\n",
    "    fig.colorbar(cf, ax=ax1)\n",
    "    ax1.set_title(f'Example 9.29 ({test.Ni} x {test.Nj} grid)')\n",
    "    plt.show()\n",
    "else:\n",
    "    print('Error code ',info,' returned by BiCGStab')"
   ]
  },
  {
   "cell_type": "markdown",
   "id": "twenty-store",
   "metadata": {},
   "source": [
    "Using the preconditioner has reduced the runtime from 0.52 seconds to 8.17 (16 times faster). \n",
    "\n",
    "# final test\n",
    "\n",
    "Lets use the original test problem and the integrate function to re-run our mesh refinement test.  Once again I'm starting with the massively fine 1281 x 641 grid."
   ]
  },
  {
   "cell_type": "code",
   "execution_count": 13,
   "id": "broken-objective",
   "metadata": {},
   "outputs": [],
   "source": [
    "import scipy.integrate as integrate\n",
    "from refinement_analysis import refinement_analysis\n",
    "\n",
    "def integrate_u_dx(mesh,x0,x1,y):\n",
    "    '''Calculate U=\\int_{1.0}^{1.95)u(x,0.25) dx  using the\n",
    "    u value stored on the grid and simpsons rule'''\n",
    "    \n",
    "    # find the left and right grid points\n",
    "    i0,j = mesh.find((x0,y))\n",
    "    i1,j = mesh.find((x1,y))\n",
    "\n",
    "    # add 1 to i1 as we are going to use it as an upper \n",
    "    # bound forarray slicing\n",
    "    i1 = i1 +1\n",
    "    \n",
    "    # integrate\n",
    "    return integrate.simps(mesh.u[j,i0:i1],mesh.x[j,i0:i1])\n",
    "\n"
   ]
  },
  {
   "cell_type": "code",
   "execution_count": 14,
   "id": "acting-dover",
   "metadata": {},
   "outputs": [
    {
     "name": "stdout",
     "output_type": "stream",
     "text": [
      "Uniform 1281x641 grid from (0.0, 0.0) to (2.0, 1.0).\n",
      "Boundaries conditions are - left: Dirichlet, right: Dirichlet, top: Dirichlet, bottom: Dirichlet.\n",
      "The solver took 0:01:06, the return code is 0\n",
      "Integrated value is  0.11594998762485292 \n",
      "\n",
      "Uniform 641x321 grid from (0.0, 0.0) to (2.0, 1.0).\n",
      "Boundaries conditions are - left: Dirichlet, right: Dirichlet, top: Dirichlet, bottom: Dirichlet.\n",
      "The solver took 0:00:08, the return code is 0\n",
      "Integrated value is  0.1159547094362285 \n",
      "\n",
      "Uniform 321x161 grid from (0.0, 0.0) to (2.0, 1.0).\n",
      "Boundaries conditions are - left: Dirichlet, right: Dirichlet, top: Dirichlet, bottom: Dirichlet.\n",
      "The solver took 0:00:01, the return code is 0\n",
      "Integrated value is  0.11596933801411036 \n",
      "\n",
      "Uniform 161x81 grid from (0.0, 0.0) to (2.0, 1.0).\n",
      "Boundaries conditions are - left: Dirichlet, right: Dirichlet, top: Dirichlet, bottom: Dirichlet.\n",
      "The solver took 0:00:00, the return code is 0\n",
      "Integrated value is  0.11602661789026109 \n",
      "\n",
      "Uniform 81x41 grid from (0.0, 0.0) to (2.0, 1.0).\n",
      "Boundaries conditions are - left: Dirichlet, right: Dirichlet, top: Dirichlet, bottom: Dirichlet.\n",
      "The solver took 0:00:00, the return code is 0\n",
      "Integrated value is  0.11625965498144616 \n",
      "\n"
     ]
    }
   ],
   "source": [
    "import datetime # just seconds may not be enough\n",
    "\n",
    "# we need some lists u and dx values\n",
    "U_val = []\n",
    "dx_val = []\n",
    "run_time = []\n",
    "n_pts =[]\n",
    "for grid_index in range(6,1,-1):\n",
    "    ni = 20*2**grid_index + 1\n",
    "    nj = 10*2**grid_index + 1\n",
    "    n_pts.append(ni*nj)\n",
    "    \n",
    "    # set up the problem\n",
    "    test = Example929(ni,nj)\n",
    "    print(test)\n",
    "    \n",
    "    # solve it with 12 d.p. precision and a lot of itterations\n",
    "    start = time.process_time()\n",
    "    info = LaplaceSolver(test,tol=1e-15)\n",
    "    stop = time.process_time()\n",
    "    print(\"The solver took {}, the return code is {}\" \\\n",
    "          .format(datetime.timedelta(seconds=int(stop-start)),info))\n",
    "\n",
    "    # save dx and the integral\n",
    "    dx_val.append(test.Delta_x())\n",
    "    U_val.append(integrate_u_dx(test,1.0,1.95,0.25))\n",
    "    run_time.append(stop-start)\n",
    "          \n",
    "    print('Integrated value is ',U_val[-1],'\\n')"
   ]
  },
  {
   "cell_type": "code",
   "execution_count": 15,
   "id": "important-guest",
   "metadata": {},
   "outputs": [
    {
     "name": "stdout",
     "output_type": "stream",
     "text": [
      "Refinement Analysis on 5 grids.\n",
      "\n",
      "Grid Delta x ratio  \\int_{75}^{125}h(x,25) dx\n",
      "---------------------------------------------\n",
      "   1 0.001563     2   0.11595\n",
      "   2 0.003125     2  0.115955\n",
      "   3 0.00625     2  0.115969\n",
      "   4  0.0125     2  0.116027\n",
      "   5   0.025   ---   0.11626\n",
      "--------------------------------------------- \n",
      "\n",
      "order of convergence, p =   1.63\n",
      "\n",
      "Grids       GCI\n",
      "---------------\n",
      " 1  2 2.426e-05\n",
      " 2  3 7.516e-05\n",
      " 3  4 0.0002943\n",
      " 4  5  0.001197\n",
      "---------------\n",
      "\n",
      " Grid Step  GCI Ratio Converged\n",
      "-------------------------------\n",
      " 1 2  2 3           1 True\n",
      " 2 3  3 4      0.7913 False\n",
      " 3 4  4 5      0.7619 False\n",
      "-------------------------------\n",
      "\n"
     ]
    },
    {
     "data": {
      "image/png": "[encoded data removed]",
      "text/plain": [
       "<Figure size 432x288 with 1 Axes>"
      ]
     },
     "metadata": {
      "needs_background": "light"
     },
     "output_type": "display_data"
    }
   ],
   "source": [
    "from refinement_analysis import refinement_analysis\n",
    "# lets to the refinement analysis\n",
    "analysis = refinement_analysis(dx_val,U_val)\n",
    "analysis.report(r'\\int_{75}^{125}h(x,25) dx')\n",
    "analysis.plot(True,r'$\\int_{75}^{125}h(x,25) dx$')"
   ]
  },
  {
   "cell_type": "markdown",
   "id": "colored-literature",
   "metadata": {},
   "source": [
    "## Analysis\n",
    "The runtime for preconditioned BiCGStab on the 1281 x 641 grid is 01:55 compared to 40:18 using the Jacobi solver (20 times faster).  The GCI analysis shows that the apparent order is 1.63 (so a little less than 2) but that the three finest grids are mesh converged.  The plot shows that the integrated quanity is approaching the limit anymptotically.  \n",
    "\n",
    "Two minutes is a perfectly respectable runtime for solving this problem, and a similar time would be expected to solve the porous flow problem on the same grid.  Further improvements can be made by better selection of the pre-conditioner (although this is problem dependent) and optimisation of the matrix assembly and matrix unpacking code."
   ]
  },
  {
   "cell_type": "code",
   "execution_count": null,
   "id": "still-chile",
   "metadata": {},
   "outputs": [],
   "source": []
  }
 ],
 "metadata": {
  "kernelspec": {
   "display_name": "Python 3",
   "language": "python",
   "name": "python3"
  },
  "language_info": {
   "codemirror_mode": {
    "name": "ipython",
    "version": 3
   },
   "file_extension": ".py",
   "mimetype": "text/x-python",
   "name": "python",
   "nbconvert_exporter": "python",
   "pygments_lexer": "ipython3",
   "version": "3.9.9"
  }
 },
 "nbformat": 4,
 "nbformat_minor": 5
}
