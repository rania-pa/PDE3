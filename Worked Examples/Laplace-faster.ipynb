{
 "cells": [
  {
   "cell_type": "markdown",
   "id": "geological-writer",
   "metadata": {},
   "source": [
    "# Faster itterative methods for the Solution of the Laplace Equation\n",
    "\n",
    "In this workbook we are going to look at Gauss-Siedel and SOR methods for the solution of the Laplace equations to see if we can make them faster. You will remember that in the last workbook we found that the Jacobi iteration was fastest (although it used a lot more itterations) because it could exploit the pipeline on the processor by using whole array opperations. \n",
    "\n",
    "Gauss-Seidel and SOR could not as they needed to wait for new results to be available from the pipeline.  This is because the scheme\n",
    "$$u_O^{n+1}=\\frac{1}{2(1+\\beta^2)}(u_E^n+u_W^{n+1}+\\beta^2(u_N^n+u_S^{n+1})).$$\n",
    "needs the values of u(i-1,j) and u(i-1,j) to compute u(i,j).  \n",
    "\n",
    "So while SOR use only 7% of the number of itterations of the Jacobi scheme it was 10 times slower!\n",
    "\n",
    "To do something about this we are going to need to understand how arrays are stored in memory and what we can do to avoid waiting.\n",
    "\n",
    "Before starting I'm going to load the libraries we want and define our Grid class:"
   ]
  },
  {
   "cell_type": "code",
   "execution_count": 1,
   "id": "studied-alliance",
   "metadata": {
    "jupyter": {
     "source_hidden": true
    },
    "tags": []
   },
   "outputs": [],
   "source": [
    "import numpy as np\n",
    "import matplotlib.pyplot as plt\n",
    "import time\n",
    "\n",
    "class Grid:\n",
    "    '''Class defining a 2D computational grid'''\n",
    "    \n",
    "    def __init__(self,ni,nj):\n",
    "        # set up information about the grid\n",
    "        self.origin = (0.0, 0.0)  # bottom left\n",
    "        self.extent = (1.0, 1.0)  # top right\n",
    "        self.Ni = ni # grid points in i direction\n",
    "        self.Nj = nj # grid points in j direction\n",
    "        \n",
    "        # initialse x,y and u arrays\n",
    "        self.u = np.zeros((nj, ni))\n",
    "        self.x = np.zeros((nj, ni))\n",
    "        self.y = np.zeros((nj, ni))\n",
    "\n",
    "    def set_origin(self,x0,y0):\n",
    "        self.origin = (x0, y0)\n",
    "    \n",
    "    def set_extent(self,x1,y1):\n",
    "        self.extent = (x1, y1)\n",
    "        \n",
    "    def generate(self,Quiet=True):\n",
    "        '''generate a uniformly spaced grid covering the domain from the\n",
    "        origin to the extent.  We are going to do this using linspace from\n",
    "        numpy to create lists of x and y ordinates and then the meshgrid\n",
    "        function to turn these into 2D arrays of grid point ordinates.'''\n",
    "        x_ord = np.linspace(self.origin[0], self.extent[0], self.Ni)\n",
    "        y_ord = np.linspace(self.origin[1], self.extent[1], self.Nj)\n",
    "        self.x, self.y = np.meshgrid(x_ord,y_ord)\n",
    "        if not Quiet:\n",
    "            print(self)\n",
    "\n",
    "    def Delta_x(self):\n",
    "        # calculate delta x\n",
    "        return self.x[0,1]-self.x[0,0]\n",
    "    \n",
    "    def Delta_y(self):\n",
    "        # calculate delta y\n",
    "        return self.y[1,0]-self.y[0,0]\n",
    "    \n",
    "    def find(self,point):\n",
    "        '''find the i and j ordinates of the grid cell which contains \n",
    "        the point (x,y).  To do this we calculate the distance from\n",
    "        the point to the origin in the x and y directions and then\n",
    "        divide this by delta x and delta y.  The resulting real ordinates\n",
    "        are converted to indices using the int() function.'''\n",
    "        grid_x = (point[0] - self.origin[0])/self.Delta_x()\n",
    "        grid_y = (point[1] - self.origin[1])/self.Delta_y()\n",
    "        return int(grid_x), int(grid_y)\n",
    "    \n",
    "    def __str__(self):\n",
    "        # describe the object when asked to print it\n",
    "        return 'Uniform {}x{} grid from {} to {}.'.format(self.Ni, self.Nj, self.origin, self.extent)"
   ]
  },
  {
   "cell_type": "markdown",
   "id": "certain-danger",
   "metadata": {},
   "source": [
    "## The test problem\n",
    "Were going to use the same test problem as before:  \n",
    "\n",
    "$$0=u_{xx}+u_{yy}$$\n",
    "subject to the boundary conditions\n",
    "$$\\begin{align*}\n",
    "u(x,0)&=0&0\\le x\\le 2 \\\\\n",
    "u(x,1)&=0&0\\le x\\le 2 \\\\\n",
    "u(0,y)&=0&0\\le y \\le 1\\\\\n",
    "u(2,y)&=\\sin 2\\pi y&0\\le y \\le 1.\n",
    "\\end{align*}$$\n"
   ]
  },
  {
   "cell_type": "code",
   "execution_count": 2,
   "id": "reduced-orlando",
   "metadata": {},
   "outputs": [],
   "source": [
    "def Example929(ni,nj):\n",
    "    # set up a mesh\n",
    "    mesh = Grid(ni,nj)\n",
    "    mesh.set_extent(2.0,1.0)\n",
    "    mesh.generate()\n",
    "    # now the RHS boundary condition\n",
    "    mesh.u[:,-1]=np.sin(2*np.pi*mesh.y[:,-1])\n",
    "    return mesh"
   ]
  },
  {
   "cell_type": "code",
   "execution_count": 3,
   "id": "thousand-marsh",
   "metadata": {},
   "outputs": [
    {
     "name": "stdout",
     "output_type": "stream",
     "text": [
      "Uniform 161x81 grid from (0.0, 0.0) to (2.0, 1.0).\n"
     ]
    },
    {
     "data": {
      "image/png": "[encoded data removed]",
      "text/plain": [
       "<Figure size 432x288 with 1 Axes>"
      ]
     },
     "metadata": {
      "needs_background": "light"
     },
     "output_type": "display_data"
    }
   ],
   "source": [
    "# lets test it\n",
    "test = Example929(161,81)\n",
    "print(test)\n",
    "\n",
    "# and plot the boundary values.\n",
    "plt.plot(test.y[:,-1],test.u[:,-1],'o')\n",
    "plt.title('Right hand boundary')\n",
    "plt.xlabel('y')\n",
    "plt.ylabel('u')\n",
    "plt.show()"
   ]
  },
  {
   "cell_type": "markdown",
   "id": "meaning-house",
   "metadata": {},
   "source": [
    "## How are things stored?\n",
    "\n",
    "Numpy will tell us a lot about how arrays are stored in memory.  The array object has some usefull properties that we can interogate.  We're going to look at the size, shape and strides of u.\n"
   ]
  },
  {
   "cell_type": "code",
   "execution_count": 4,
   "id": "random-version",
   "metadata": {},
   "outputs": [
    {
     "name": "stdout",
     "output_type": "stream",
     "text": [
      "size   : 13041\n",
      "shape  : (81, 161)\n",
      "strides: (1288, 8)\n"
     ]
    }
   ],
   "source": [
    "print('size   :',test.u.size)\n",
    "print('shape  :',test.u.shape)\n",
    "print('strides:',test.u.strides)"
   ]
  },
  {
   "cell_type": "markdown",
   "id": "british-digest",
   "metadata": {},
   "source": [
    "* size tells us that the array containts 13041 values.\n",
    "* shape tells us it is an 81 by 161 array (stored as u[j,i])\n",
    "* strides tells us that each element of u in the i direction is 8 bytes apart in memory and each in the j direction is 1288 bytes appart.  since 1288/8 = 161 we know that the array is stored with the i values contiguously.\n",
    "\n",
    "I could now write the Gauss-Siedel scheme as:\n",
    "$$u^{n+1}(k)=\\frac1{2(1+\\beta^2)}(u^n(k-1)+u^n(k+1)+\\beta^2(u^n(k+161)+u^N(k-161))\\, k=0 \\ldots 1287$$\n",
    "...  or almost since that would include the left, right, top and bottom boundary conditions! \n",
    "\n",
    "## where are the boundary conditions\n",
    "We know that \n",
    "* the first 161 k values must contain the bottom boundary condition values,\n",
    "* the last 161 k values must contain the top boundary condition values,\n",
    "* k=0, 161, 322, 483, ... 161n ... 12880 contain the left boundary condition values, and\n",
    "* k=160, 321, 482, ... 161n-1 ... 13041 contain the right boundary condition values.\n",
    "So we must not calculate these.\n",
    "\n",
    "The easiest thing to do is to create a list of k values that we want to compute\n",
    "\n",
    "    klist = []  # create an empty list\n",
    "    # loop over all the interior points\n",
    "    for j in range(1,test.Nj-1):\n",
    "        for i in range(1,test.Ni-1):\n",
    "            k=i+test.u.shape[1]*j  # calculate the k value\n",
    "            klist.append(k) # save it for later\n",
    "\n",
    "With this list we can do some interesting things.  This process is eactly the one that the whole array opperations use to do the calculation very quickly.  \n",
    "\n",
    "## Checkerboarding\n",
    "One way of defeating the problem with the pipeline that allows us to use whole array opperations is calculate the value at every other grid point.  This means that we do\n",
    "\n",
    " $$u_O^{n+1}={2(1+\\beta^2)}(u_E^{n}+u_W^{n}+\\beta^2(u_N^n+u_S^{n}))\\text{ for all odd grid points}$$\n",
    " and\n",
    " $$u_O^{n+1}={2(1+\\beta^2)}(u_E^{n+1}+u_W^{n+1}+\\beta^2(u_N^{n+1}+u_S^{n+1}))\\text{ for all even grid points}$$\n",
    "\n",
    "Just like doing the red squares of the checkerboard first and then all the black ones.  As written this is Checkerboard Gauss-Seidel but an SOR version can also be written.\n",
    "\n",
    "We can make use of the list of k values to do this, though we also need to use the Numpy attribue u.flat which allows us to use k values to index the array.  "
   ]
  },
  {
   "cell_type": "code",
   "execution_count": 5,
   "id": "suitable-component",
   "metadata": {},
   "outputs": [],
   "source": [
    "def GaussSeidel(mesh,tol=0.5e-7,maxit=10000):\n",
    "    '''Gauss-Seidel itteration with checkerbaording\n",
    "    applied to the grid stored in mesh.  \n",
    "    We will continue itterating until the difference between\n",
    "    u^{n+1} and u^n is less than tol. We will also stop if \n",
    "    we have done more than maxit itterations.\n",
    "    \n",
    "    The solution stored in the mesh.u variable is updated'''\n",
    "\n",
    "    # calculate the coefficients\n",
    "    beta = mesh.Delta_x()/mesh.Delta_y()\n",
    "    beta_sq = beta**2\n",
    "    C_beta = 1/(2*(1+beta_sq))\n",
    "    \n",
    "    # initialise u_new \n",
    "    u_new = mesh.u.copy()\n",
    "    \n",
    "    # build the list of k values    \n",
    "    offset = mesh.u.shape[1] # how far away are j+1 and j-1\n",
    "\n",
    "    # create some empty lists\n",
    "    centre = []; north = []; east = []; south=[]; west = []  \n",
    "    # loop over all the interior points\n",
    "    for j in range(1,mesh.Nj-1):\n",
    "        for i in range(1,mesh.Ni-1):\n",
    "            k=i+offset*j  # calculate the k value\n",
    "            # save the south, west, centre, east and north points\n",
    "            centre.append(k)\n",
    "            north.append(k+offset)\n",
    "            east.append(k+1)\n",
    "            south.append(k-offset)\n",
    "            west.append(k-1)\n",
    "\n",
    "    # itteration\n",
    "    for it in range(maxit):\n",
    "        \n",
    "        # red squares\n",
    "        u_new.flat[centre[::2]] = C_beta*(u_new.flat[north[::2]]+ \\\n",
    "                                    u_new.flat[south[::2]]+ \\\n",
    "                                    beta_sq*(u_new.flat[east[::2]]+ \\\n",
    "                                             u_new.flat[west[::2]]))\n",
    "        # black squares\n",
    "        u_new.flat[centre[1::2]] = C_beta*(u_new.flat[north[1::2]]+ \\\n",
    "                                    u_new.flat[south[1::2]]+ \\\n",
    "                                    beta_sq*(u_new.flat[east[1::2]]+ \\\n",
    "                                             u_new.flat[west[1::2]]))\n",
    "\n",
    "\n",
    "        # compute the difference between the new and old solutions\n",
    "        err = np.max(mesh.u-u_new)/np.max(mesh.u)\n",
    "        \n",
    "        # update the solution\n",
    "        mesh.u = np.copy(u_new)\n",
    "        \n",
    "        # converged?\n",
    "        if err < tol:\n",
    "            break\n",
    "    \n",
    "    if it+1 == maxit:\n",
    "        print('Checkerboard Gauss-Seidel itteration failed to converge, error = {}'.format(err))\n",
    "    \n",
    "    return it+1, err # return the number of itterations and the final residual\n",
    "\n"
   ]
  },
  {
   "cell_type": "code",
   "execution_count": 6,
   "id": "fourth-breakfast",
   "metadata": {},
   "outputs": [
    {
     "name": "stdout",
     "output_type": "stream",
     "text": [
      "Solver took 9.61 seconds.\n",
      "Converged after 2460 itterations, final residual is 4.988792274077114e-08\n"
     ]
    },
    {
     "data": {
      "image/png": "[encoded data removed]",
      "text/plain": [
       "<Figure size 432x288 with 2 Axes>"
      ]
     },
     "metadata": {
      "needs_background": "light"
     },
     "output_type": "display_data"
    }
   ],
   "source": [
    "# Let's try test that fine grid again\n",
    "test = Example929(161,81)\n",
    "\n",
    "# we will time it\n",
    "start = time.process_time()\n",
    "itt, err = GaussSeidel(test)\n",
    "stop = time.process_time()\n",
    "print(\"Solver took {:.3g} seconds.\".format(stop-start))\n",
    "print('Converged after {} itterations, final residual is {}'.format(itt,err))\n",
    "\n",
    "# plot the solution\n",
    "fig, ax1 = plt.subplots()\n",
    "cmap = plt.get_cmap('PiYG')\n",
    "cf = ax1.contourf(test.x,test.y,test.u,cmap=cmap)\n",
    "fig.colorbar(cf, ax=ax1)\n",
    "ax1.set_title(f'Example 9.29 ({test.Ni} x {test.Nj} grid)')\n",
    "plt.show()"
   ]
  },
  {
   "cell_type": "markdown",
   "id": "convertible-uncle",
   "metadata": {},
   "source": [
    "## Analysis\n",
    "\n",
    "After a lot of messing about with lists of the central, east, north, west and south k values and some whole array programming using we have a version of Gauss-Seidel which runs in 9.59 seconds, compared to the 46 seconds taken by the original method, a speed up of 484%. \n",
    "\n",
    "We can ammend the code to implement SOR quite simply.\n",
    "\n"
   ]
  },
  {
   "cell_type": "code",
   "execution_count": 7,
   "id": "aging-fleet",
   "metadata": {},
   "outputs": [],
   "source": [
    "def SOR(mesh,tol=0.5e-7,maxit=10000):\n",
    "    '''SOR itteration with checkerboarding \n",
    "    applied to the grid stored in mesh.  \n",
    "    We will continue itterating until the difference between\n",
    "    u^{n+1} and u^n is less than tol. We will also stop if \n",
    "    we have done more than maxit itterations.\n",
    "    \n",
    "    The solution stored in the mesh.u variable is updated'''\n",
    "    \n",
    "    # calculate the optimal value of omega\n",
    "    lamda = (np.cos(np.pi/mesh.Ni)+np.cos(np.pi/mesh.Nj))**2/4\n",
    "    omega = 2/(1+np.sqrt(1-lamda))\n",
    "\n",
    "\n",
    "    # calculate the coefficients\n",
    "    beta = mesh.Delta_x()/mesh.Delta_y()\n",
    "    beta_sq = beta**2\n",
    "    C_beta = 1/(2*(1+beta_sq))\n",
    "    \n",
    "    # initialise u_new \n",
    "    u_new = mesh.u.copy()\n",
    "    \n",
    "    # build the list of k values    \n",
    "    offset = mesh.u.shape[1] # how far away are j+1 and j-1\n",
    "\n",
    "    # create some empty lists\n",
    "    centre = []; north = []; east = []; south=[]; west = []  \n",
    "    # loop over all the interior points\n",
    "    for j in range(1,mesh.Nj-1):\n",
    "        for i in range(1,mesh.Ni-1):\n",
    "            k=i+offset*j  # calculate the k value\n",
    "            # save the south, west, centre, east and north points\n",
    "            centre.append(k)\n",
    "            north.append(k+offset)\n",
    "            east.append(k+1)\n",
    "            south.append(k-offset)\n",
    "            west.append(k-1)\n",
    "\n",
    "    # itteration\n",
    "    for it in range(maxit):\n",
    "        \n",
    "        # red squares [::2] means from 0 to n in steps of 2, remember\n",
    "        # we are taking alternate values from the lists centre, east,\n",
    "        # north, west and south and using them as indicies into the \n",
    "        # u_new array.\n",
    "        u_new.flat[centre[::2]] = (1-omega) * u_new.flat[centre[::2]] + \\\n",
    "                                    omega * C_beta*(u_new.flat[north[::2]]+ \\\n",
    "                                    u_new.flat[south[::2]]+ \\\n",
    "                                    beta_sq*(u_new.flat[east[::2]]+ \\\n",
    "                                             u_new.flat[west[::2]]))\n",
    "        \n",
    "        # black squares [1::2] means from 1 to n in steps of 2\n",
    "        u_new.flat[centre[1::2]] = (1-omega) * u_new.flat[centre[1::2]] + \\\n",
    "                                    omega * C_beta*(u_new.flat[north[1::2]]+ \\\n",
    "                                    u_new.flat[south[1::2]]+ \\\n",
    "                                    beta_sq*(u_new.flat[east[1::2]]+ \\\n",
    "                                             u_new.flat[west[1::2]]))\n",
    "\n",
    "        # compute the difference between the new and old solutions\n",
    "        err = np.max(mesh.u-u_new)\n",
    "        \n",
    "        # update the solution\n",
    "        mesh.u = np.copy(u_new)\n",
    "        \n",
    "        # converged?\n",
    "        if err < tol:\n",
    "            break\n",
    "    \n",
    "    if it+1 == maxit:\n",
    "        print('Checkerboard Gauss-Seidel itteration failed to converge, error = {}'.format(err))\n",
    "    \n",
    "    return it+1, err # return the number of itterations and the final residual"
   ]
  },
  {
   "cell_type": "code",
   "execution_count": 8,
   "id": "excited-navigator",
   "metadata": {},
   "outputs": [
    {
     "name": "stdout",
     "output_type": "stream",
     "text": [
      "Solver took 1.21 seconds.\n",
      "Converged after 258 itterations, final residual is 4.765657729555173e-08\n"
     ]
    },
    {
     "data": {
      "image/png": "[encoded data removed]",
      "text/plain": [
       "<Figure size 432x288 with 2 Axes>"
      ]
     },
     "metadata": {
      "needs_background": "light"
     },
     "output_type": "display_data"
    }
   ],
   "source": [
    "# Let's try test that fine grid again\n",
    "test2 = Example929(161,81)\n",
    "\n",
    "# we will time it\n",
    "start = time.process_time()\n",
    "itt, err = SOR(test2)\n",
    "stop = time.process_time()\n",
    "print(\"Solver took {:.3g} seconds.\".format(stop-start))\n",
    "print('Converged after {} itterations, final residual is {}'.format(itt,err))\n",
    "\n",
    "# plot the solution\n",
    "fig, ax1 = plt.subplots()\n",
    "cmap = plt.get_cmap('PiYG')\n",
    "cf = ax1.contourf(test2.x,test2.y,test2.u,cmap=cmap)\n",
    "fig.colorbar(cf, ax=ax1)\n",
    "ax1.set_title(f'Example 9.29 ({test2.Ni} x {test2.Nj} grid)')\n",
    "plt.show()"
   ]
  },
  {
   "cell_type": "markdown",
   "id": "passing-measurement",
   "metadata": {},
   "source": [
    "### Analysis\n",
    "\n",
    "The checkerboard version of the SOR solver runs in 1.16 seconds, five times faster than the point SOR version. Still not as fast as the Jacobi solver (in terms of run time) but never the less very impressive.  \n",
    "\n",
    "Given this speed we can try a finer grid"
   ]
  },
  {
   "cell_type": "code",
   "execution_count": 9,
   "id": "unknown-supplement",
   "metadata": {},
   "outputs": [
    {
     "name": "stdout",
     "output_type": "stream",
     "text": [
      "Solver took 11.6 seconds.\n",
      "Converged after 500 itterations, final residual is 4.983336954200723e-08\n"
     ]
    },
    {
     "data": {
      "image/png": "[encoded data removed]",
      "text/plain": [
       "<Figure size 432x288 with 2 Axes>"
      ]
     },
     "metadata": {
      "needs_background": "light"
     },
     "output_type": "display_data"
    }
   ],
   "source": [
    "# Let's try test that fine grid again\n",
    "test3 = Example929(321,161)\n",
    "\n",
    "# we will time it\n",
    "start = time.process_time()\n",
    "itt, err = SOR(test3)\n",
    "stop = time.process_time()\n",
    "print(\"Solver took {:.3g} seconds.\".format(stop-start))\n",
    "print('Converged after {} itterations, final residual is {}'.format(itt,err))\n",
    "\n",
    "# plot the solution\n",
    "fig, ax1 = plt.subplots()\n",
    "cmap = plt.get_cmap('PiYG')\n",
    "cf = ax1.contourf(test3.x,test3.y,test3.u,cmap=cmap)\n",
    "fig.colorbar(cf, ax=ax1)\n",
    "ax1.set_title(f'Example 9.29 ({test3.Ni} x {test3.Nj} grid)')\n",
    "plt.show()"
   ]
  },
  {
   "cell_type": "markdown",
   "id": "powerful-european",
   "metadata": {},
   "source": [
    "## Line SOR\n",
    "It is possible to use a technique called line-SOR to get the benefits of SOR and the processor pipeline.  \n",
    "\n",
    "Here we take a weighted average of the old and new values of u (as in SOR) but include one additional value at the new time level: $$u_O^{n+1}=(1-\\omega)u_O^n+\\frac{\\omega}{2(1+\\beta^2)}(u_E^{n+1}+u_W^{n+1}+\\beta^2(u_N^n+u_S^{n+1})).$$\n",
    "\n",
    "This means we now have a problem as we need to know $$u_E^{n+1},\\ u_O^{n+1},\\text {and }$u_W^{n+1}$$ at the new time level.  We thus have a system of linear equations to solve in each row.  Beacuse this is tri-diagonal it can be solved quickly and we get the benefits of pipeline speed and the accelerated convergence.  We will find out more about it when we look at parabolic equations.\n",
    "\n"
   ]
  },
  {
   "cell_type": "code",
   "execution_count": null,
   "id": "d4703db1-b482-4c20-bd12-36ed027f8ec5",
   "metadata": {},
   "outputs": [],
   "source": []
  }
 ],
 "metadata": {
  "kernelspec": {
   "display_name": "Python 3",
   "language": "python",
   "name": "python3"
  },
  "language_info": {
   "codemirror_mode": {
    "name": "ipython",
    "version": 3
   },
   "file_extension": ".py",
   "mimetype": "text/x-python",
   "name": "python",
   "nbconvert_exporter": "python",
   "pygments_lexer": "ipython3",
   "version": "3.9.9"
  }
 },
 "nbformat": 4,
 "nbformat_minor": 5
}
