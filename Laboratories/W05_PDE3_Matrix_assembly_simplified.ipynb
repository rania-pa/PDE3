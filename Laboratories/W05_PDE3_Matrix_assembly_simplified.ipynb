{
 "cells": [
  {
   "cell_type": "markdown",
   "id": "d29888a6",
   "metadata": {},
   "source": [
    "# Week 5 worksheet: Matrix methods for the solution of Elliptic equations - Simplified Pipeline\n",
    "\n",
    "This worksheet contains a number of exercises covering only the numerical aspects of the course. \n",
    "\n",
    "#### Suggested reading\n",
    "\n",
    "You will see lists of links to further reading and resources throughout the worksheets, in sections titled **Learn more:**. These will include links to the Python documentation on the topic at hand, or links to relevant book sections or other online resources. Unless explicitly indicated, these are not mandatory reading, although of course we strongly recommend that you consult them!\n",
    "\n",
    "##### This a solved example to go through that will help you understand how the matrix assembly works. It is a simplified code that shows step by step the assembly of the matrices for the system of equations along with constructing the grid in a pipeline. The system of equations, when solved will give the numerical solution of the Laplace equation at every interior point.\n",
    "This example does not involve the use of the class Grid and the solver functions but behaves in the same way. Please continue using the class Grid for the rest of the worksheets. \n",
    "\n",
    "## Note:\n",
    "This workbook expects to find a diretory called figures in the same folder as well as the scripts folder.  Please make sure you download figures (and the files it contains) from the GitHub."
   ]
  },
  {
   "cell_type": "code",
   "execution_count": 1,
   "id": "a8ece959",
   "metadata": {},
   "outputs": [
    {
     "data": {
      "text/html": [
       "<script type='text/javascript' src='scripts/create_widgets.js'></script>"
      ],
      "text/plain": [
       "<IPython.core.display.HTML object>"
      ]
     },
     "metadata": {},
     "output_type": "display_data"
    },
    {
     "data": {
      "application/javascript": [
       "window.runSolutionCells()"
      ],
      "text/plain": [
       "<IPython.core.display.Javascript object>"
      ]
     },
     "metadata": {},
     "output_type": "display_data"
    },
    {
     "name": "stdout",
     "output_type": "stream",
     "text": [
      "Buttons created!\n"
     ]
    }
   ],
   "source": [
    "%run scripts/create_widgets.py W05"
   ]
  },
  {
   "cell_type": "code",
   "execution_count": 2,
   "id": "679ad66d",
   "metadata": {},
   "outputs": [
    {
     "data": {
      "application/javascript": [
       "MathJax.Hub.Config({\n",
       "    TeX: { equationNumbers: { autoNumber: \"AMS\" } }\n",
       "});\n"
      ],
      "text/plain": [
       "<IPython.core.display.Javascript object>"
      ]
     },
     "metadata": {},
     "output_type": "display_data"
    }
   ],
   "source": [
    "%%javascript\n",
    "MathJax.Hub.Config({\n",
    "    TeX: { equationNumbers: { autoNumber: \"AMS\" } }\n",
    "});"
   ]
  },
  {
   "cell_type": "markdown",
   "id": "b998e53c",
   "metadata": {},
   "source": [
    "## Example\n",
    "\n",
    "$$\n",
    "\\newcommand{\\vect}[1]{\\bm #1}\n",
    "\\newcommand{\\grad}{\\nabla}\n",
    "\\newcommand{\\pderiv}[2]{\\frac{\\partial #1}{\\partial #2}}\n",
    "\\newcommand{\\pdderiv}[2]{\\frac{\\partial^2 #1}{\\partial #2^2}}\n",
    "$$\n",
    "\n",
    "In this laboratory we will solve\n",
    "\n",
    "$$0=T_{xx}+T_{yy}$$\n",
    "\n",
    "subject to the boundary conditions\n",
    "\n",
    "$$\n",
    "\\begin{align*}\n",
    "T(x,0)&=0&0.0\\le x\\le 0.2 \\\\\n",
    "T(x,0.2)&=0&0.0\\le x\\le 0.2 \\\\\n",
    "T(0,y)&=0&0.0\\le y \\le 0.2\\\\\n",
    "T(0.2,y)&=100&0.0\\le y\\le 0.2.\n",
    "\\end{align*}\n",
    "$$\n"
   ]
  },
  {
   "cell_type": "markdown",
   "id": "cf2cee17",
   "metadata": {},
   "source": [
    "### 1) Construct the grid\n",
    "\n",
    "To see how the matrix assembly works, we are going to start with a small grid (therefore small number of equations). We will use a 4 $\\times$ 4 grid, as shown in the Figure below. \n",
    "<div>\n",
    "<img src=\"figures/example_grid.png\" width=\"400\"/>\n",
    "</div>\n",
    "\n",
    "We know that the extent in the x direction is 0.2 m and the extent in the y direction is 0.2 m. Therefore the spacings at each direction are\n",
    "$$ \\Delta x = \\frac{0.2}{4} = 0.05 m \\\\ \\Delta y = \\frac{0.2}{4} = 0.05 m $$\n",
    "\n"
   ]
  },
  {
   "cell_type": "code",
   "execution_count": 3,
   "id": "80a597ae",
   "metadata": {},
   "outputs": [
    {
     "name": "stdout",
     "output_type": "stream",
     "text": [
      "Spacing dx = 0.05 \n",
      "Spacing dy = 0.05\n",
      "Size of grid:  (4, 4)\n"
     ]
    }
   ],
   "source": [
    "# Import necessary libraries\n",
    "\n",
    "import numpy as np\n",
    "import scipy.sparse as sps\n",
    "import matplotlib.pyplot as plt\n",
    "import scipy.sparse.linalg as LA\n",
    "\n",
    "# Set number of points in each direction\n",
    "\n",
    "ni = 4 # Number of grid points in the i direction (x direction)\n",
    "nj = 4 # Number of grid points in the j direction (y direction)\n",
    "\n",
    "# Set origin in x and y direction\n",
    "\n",
    "x_origin = 0.0\n",
    "y_origin = 0.0\n",
    "\n",
    "# Set extent in x and y direction\n",
    "\n",
    "x_extent = 0.2\n",
    "y_extent = 0.2 \n",
    "\n",
    "# Find spatial steps in x and y direction\n",
    "\n",
    "dx = (x_extent - x_origin)/ni\n",
    "dy = (y_extent - y_origin)/nj\n",
    "\n",
    "print(r\"Spacing dx =\", dx, \"\\nSpacing dy =\", dy)\n",
    "\n",
    "# Find x and y coordinates \n",
    "\n",
    "x_coord = np.linspace(x_origin, x_extent, ni)\n",
    "y_coord = np.linspace(y_origin, y_extent, nj)\n",
    "\n",
    "# Generate the grid points (pairs of x and y values)\n",
    "\n",
    "x, y = np.meshgrid(x_coord,y_coord)\n",
    "\n",
    "# Initialize solution u array to zeros\n",
    "\n",
    "u = np.zeros((nj, ni))\n",
    "\n",
    "print('Size of grid: ', u.shape)"
   ]
  },
  {
   "cell_type": "markdown",
   "id": "f06bbd5e",
   "metadata": {},
   "source": [
    "### 2) Set boundary conditions\n",
    "\n",
    "We need to set $T(0.2,y)=100$ for $0.0\\le y\\le 0.2$, which means we need to set u[:, -1] = 100 (The column with index -1 is the right boundary)"
   ]
  },
  {
   "cell_type": "code",
   "execution_count": 4,
   "id": "b677c063",
   "metadata": {},
   "outputs": [],
   "source": [
    "u[:,-1] = 100"
   ]
  },
  {
   "cell_type": "markdown",
   "id": "0a788066",
   "metadata": {},
   "source": [
    "### 3) Matrix assembly \n",
    "\n",
    "From the Figure, we see that we have 4 interior points where we want to find the solution (red circles), therefore we will have 4 equations and 4 unknowns. "
   ]
  },
  {
   "cell_type": "code",
   "execution_count": 5,
   "id": "2b4e988d",
   "metadata": {},
   "outputs": [],
   "source": [
    "# How many equations do we solve - This should be equal to the number of interior points\n",
    "\n",
    "N = (nj-2)*(ni-2) # Here we subtract 2 from nj and from ni in order not to account for the boundaries.\n",
    "\n",
    "# The boundaries are known fixed values and therefore we do not need an equation to solve for them.\n",
    "    \n",
    "# Create an A matrix - Initialized to zeros\n",
    "\n",
    "A_mat = sps.lil_matrix((N, N), dtype=np.float64)\n",
    "\n",
    "# and the b vector - Initialized to zeros\n",
    "\n",
    "b_vec = np.zeros(N)"
   ]
  },
  {
   "cell_type": "markdown",
   "id": "debc443b",
   "metadata": {},
   "source": [
    "We can re-arrange the finite difference approximations and form a system of equations to be solved. The solution at each point using Jacobi iteration (other schemes can be used similarly too) is \n",
    "\n",
    "$$u_{i,j}^{n+1}=\\frac{1}{2(1+\\beta^2)}\\left(u_{i+1,j}^n+u_{i-1,j}^n+\\beta^2(u_{i,j+1}^n+u_{i, j-1}^n)\\right)$$\n",
    "where $$\\beta = \\frac{\\Delta x}{\\Delta y}$$\n",
    "\n",
    "Moving all terms on one side\n",
    "\n",
    "$$u_{i,j}^{n+1}-\\frac{1}{2(1+\\beta^2)}\\left(u_{i+1,j}^n+u_{i-1,j}^n+\\beta^2(u_{i,j+1}^n+u_{i, j-1}^n)\\right) = 0$$\n",
    "$$u_{i,j}^{n+1}-\\frac{1}{2(1+\\beta^2)}\\left(u_{i+1,j}^n+u_{i-1,j}^n\\right) - \\frac{\\beta^2}{2(1+\\beta^2)}\\left(u_{i,j+1}^n+u_{i, j-1}^n\\right) = 0$$\n",
    "\n",
    "Therefore, the coefficients of the neighboring points are:\n",
    "\n",
    "$$R_x=-\\frac{1}{2(1+\\beta^2)}$$\n",
    "\n",
    "$$R_y=-\\frac{\\beta^2}{2(1+\\beta^2)}.$$\n",
    "\n"
   ]
  },
  {
   "cell_type": "code",
   "execution_count": 6,
   "id": "a3bb6151",
   "metadata": {},
   "outputs": [],
   "source": [
    "# calculate the beta coefficient (beta = dx/dy)\n",
    "\n",
    "beta = dx/dy\n",
    "beta_sq = beta**2\n",
    "\n",
    "# Find the R_x and R_y coefficients - These are the coefficients that we multiply the neighboring points with\n",
    "\n",
    "R_x = - 1/(2*(1+beta_sq))\n",
    "R_y = beta_sq * R_x"
   ]
  },
  {
   "cell_type": "markdown",
   "id": "fd497627",
   "metadata": {},
   "source": [
    "Now we can write the Jacobi update equation as:\n",
    "\n",
    "$$ R_x \\cdot u_{i+1,j}^n+R_x \\cdot u_{i-1,j}^n+u_{i,j}^{n+1}+R_y \\cdot u_{i,j+1}^n+R_y \\cdot u_{i, j-1}^n = 0$$\n",
    "\n",
    "The unknowns are the solutions $u_{1,1}, u_{2,1}, u_{1,2}$ and $u_{2,2}$ at the corresponding interior points. The 4 equations are:\n",
    "\n",
    "$$ R_x \\cdot u_{2,1}^n+R_x \\cdot u_{0,1}^n+u_{1,1}^{n+1}+R_y \\cdot u_{1,2}^n+R_y \\cdot u_{1, 0}^n = 0$$\n",
    "\n",
    "$$ R_x \\cdot u_{3,1}^n+R_x \\cdot u_{1,1}^n+u_{2,1}^{n+1}+R_y \\cdot u_{2,2}^n+R_y \\cdot u_{2, 0}^n = 0$$\n",
    "\n",
    "$$ R_x \\cdot u_{2,2}^n+R_x \\cdot u_{0,2}^n+u_{1,2}^{n+1}+R_y \\cdot u_{1,3}^n+R_y \\cdot u_{1, 1}^n = 0$$\n",
    "\n",
    "$$ R_x \\cdot u_{3,2}^n+R_x \\cdot u_{1,2}^n+u_{2,2}^{n+1}+R_y \\cdot u_{2,3}^n+R_y \\cdot u_{2, 1}^n = 0$$"
   ]
  },
  {
   "cell_type": "markdown",
   "id": "a0c03c9d",
   "metadata": {},
   "source": [
    "We see that each equation depends on the the known boundary conditions. Substituting the boundary conditions gives\n",
    "\n",
    "$$ R_x \\cdot u_{2,1}^n+u_{1,1}^{n+1}+R_y \\cdot u_{1,2}^n = 0$$\n",
    "\n",
    "$$ R_x \\cdot 100 +R_x \\cdot u_{1,1}^n+u_{2,1}^{n+1}+R_y \\cdot u_{2,2}^n = 0$$\n",
    "\n",
    "$$ R_x \\cdot u_{2,2}^n+u_{1,2}^{n+1}+R_y \\cdot u_{1, 1}^n = 0$$\n",
    "\n",
    "$$ R_x \\cdot 100+R_x \\cdot u_{1,2}^n+u_{2,2}^{n+1}+R_y \\cdot u_{2, 1}^n = 0$$\n",
    "\n",
    "We move the known values to the RHS\n",
    "\n",
    "$$ R_x \\cdot u_{2,1}^n+u_{1,1}^{n+1}+R_y \\cdot u_{1,2}^n = 0$$\n",
    "\n",
    "$$ R_x \\cdot u_{1,1}^n+u_{2,1}^{n+1}+R_y \\cdot u_{2,2}^n = -R_x \\cdot 100$$\n",
    "\n",
    "$$ R_x \\cdot u_{2,2}^n+u_{1,2}^{n+1}+R_y \\cdot u_{1, 1}^n = 0$$\n",
    "\n",
    "$$ R_x \\cdot u_{1,2}^n+u_{2,2}^{n+1}+R_y \\cdot u_{2, 1}^n = -R_x \\cdot 100$$"
   ]
  },
  {
   "cell_type": "markdown",
   "id": "ffca9423",
   "metadata": {},
   "source": [
    "Now we can write this as a system of equations\n",
    "\n",
    "\\begin{equation*}\\underbrace{\\begin{bmatrix} 1 & R_x & R_y & 0 \\\\ R_x & 1 & 0 & R_y \\\\ R_y & 0 & 1 & R_x \\\\ 0 & R_y & R_x & 1 \\end{bmatrix}}_{\\textbf{A}} \\underbrace{\\begin{bmatrix} u_{1,1} \\\\ u_{2,1} \\\\ u_{1,2} \\\\ u_{2,2}\\end{bmatrix}}_{\\textbf{x}} = \\underbrace{\\begin{bmatrix} 0 \\\\ -100R_x \\\\ 0 \\\\ -100R_x \\end{bmatrix}}_{\\textbf{b}}\\end{equation*}"
   ]
  },
  {
   "cell_type": "markdown",
   "id": "4a202aa1",
   "metadata": {},
   "source": [
    "Although not obvious from this small grid, for large system most of the elements of matrix A will be zero. To save storage, we are saving the A matrix as a sparse matrix, where only the non-zero elements are stored. The sparse matrix knows the structure of the original matrix and the position of each coefficient in the matrix!\n",
    "\n",
    "To assemble the A and b matrices, first we change the numbering of each interior point in the grid, i.e. change the indices of each point to the index k such as $u_{i,j} = u_k$, as shown in the Figure\n",
    "\n",
    "<div>\n",
    "<img src=\"figures/example_grid2.png\" width=\"400\"/>\n",
    "</div>\n",
    "\n",
    "Now the 4 interior points are identified by index k = 1,2,3 or 4, respectively, for each point."
   ]
  },
  {
   "cell_type": "code",
   "execution_count": 7,
   "id": "2788dc8c",
   "metadata": {},
   "outputs": [],
   "source": [
    "# We loop over all interior points - Since we have two directions i, j, we need two loops\n",
    "\n",
    "for j in range(1, nj-1):\n",
    "    for i in range(1, ni-1):\n",
    "        \n",
    "        # We find the index k for a specific point based on its i,j indices\n",
    "        k = (i-1) + (ni-2)*(j-1)\n",
    "        \n",
    "        # From the structure of our A matrix, we can see that all elements on the diagonal are 1, so we set A_mat[k,k] = 1 for all k's\n",
    "        # A_mat[k,k] is the coefficient for the kth point itself (kth equation)\n",
    "        A_mat[k,k]=1 \n",
    "        \n",
    "        # Now we need to set the coefficients for the neighbouring points in the A matrix and the boundary values in the B matrix\n",
    "        \n",
    "        # ----- For the north boundary\n",
    "        # If the j index is less than the number of points nj - 2 (we subtract 2 for the boundary points) then the coefficient is R_y\n",
    "        # If the j index is greater than nj-2, it means that j = nj-1 and therefore the current point depends on the boundary\n",
    "        # and thus, we need to set the boundary condition in the b vector. Similarly for the south boundary\n",
    "        \n",
    "        if j<nj-2:\n",
    "            A_mat[k,k+(ni-2)] += R_y        # A_mat[k,k+(ni-2)] is the north neighbouring point\n",
    "        else:\n",
    "            b_vec[k] += -R_y*u[j+1,i]\n",
    "            \n",
    "        # ----- For the south boundary\n",
    "        if j>1:\n",
    "            A_mat[k,k-(ni-2)]=R_y           # A_mat[k,k-(ni-2)] is the south neighbouring point\n",
    "        else:\n",
    "            b_vec[k] += -R_y*u[j-1,i]\n",
    "            \n",
    "        # ----- For the east boundary\n",
    "        # Similarly, if the i index is less than the number of points ni - 2 (we subtract 2 for the boundary points) then the coefficient is R_x\n",
    "        # If the i index is greater than ni-2, it means that i = ni-1 and therefore the current point depends on the boundary\n",
    "        # and thus, we need to set the boundary condition in the b vector. Similarly for the west boundary.\n",
    "        \n",
    "        if i<ni-2:\n",
    "            A_mat[k,k+1]=R_x                # A_mat[k,k+1] is the east neighbouring point \n",
    "        else:\n",
    "            b_vec[k] += -R_x*u[j,i+1]\n",
    "            \n",
    "\n",
    "        # ----- For the west boundary\n",
    "        if i>1:\n",
    "            A_mat[k,k-1]=R_x                # A_mat[k,k-1] is the west neighbouring point\n",
    "        else:\n",
    "            b_vec[k] += -R_x*u[j,i-1]\n"
   ]
  },
  {
   "cell_type": "code",
   "execution_count": 8,
   "id": "744c626e",
   "metadata": {},
   "outputs": [
    {
     "data": {
      "image/png": "[encoded data removed]",
      "text/plain": [
       "<Figure size 640x480 with 1 Axes>"
      ]
     },
     "metadata": {},
     "output_type": "display_data"
    },
    {
     "name": "stdout",
     "output_type": "stream",
     "text": [
      "A matrix has 12 non-zero entries out of 16 (25.0% sparsity)\n"
     ]
    }
   ],
   "source": [
    "# Now we can create a spy plot to see the non-zero values of the A matrix\n",
    "\n",
    "plt.spy(A_mat, markersize=2, aspect='equal')\n",
    "plt.show()\n",
    "\n",
    "print('A matrix has {} non-zero entries out of {} ({:.1f}% sparsity)'.format\n",
    "      (A_mat.nnz,N**2,(1-A_mat.nnz/(N**2))*100))\n",
    "\n",
    "# We can also convert the sparse matrix to the original full matrix - Uncomment below\n",
    "# print(A_mat.toarray())"
   ]
  },
  {
   "cell_type": "markdown",
   "id": "cccf6564",
   "metadata": {},
   "source": [
    "### 4) Solve the laplace equation using the bi-conjugate gradient stabilised matrix solver (BiCGStab)"
   ]
  },
  {
   "cell_type": "code",
   "execution_count": 9,
   "id": "e9306345",
   "metadata": {},
   "outputs": [],
   "source": [
    "# Use the bicgstab solver\n",
    "\n",
    "x_vec, info = LA.bicgstab(A_mat,b_vec,tol=0.5e-12)\n",
    "\n",
    "# The x_vec is a vector. We need to unpack its values in the correct positions in the 2D grid\n",
    "\n",
    "for j in range(1, nj-1):\n",
    "    for i in range(1, ni-1):\n",
    "        k = (i-1) + (ni-2)*(j-1)\n",
    "        u[j,i]=x_vec[k]"
   ]
  },
  {
   "cell_type": "markdown",
   "id": "9fceea82",
   "metadata": {},
   "source": [
    "### 5) Finally, plot the solution"
   ]
  },
  {
   "cell_type": "code",
   "execution_count": 10,
   "id": "3eed557b",
   "metadata": {},
   "outputs": [
    {
     "data": {
      "image/png": "[encoded data removed]",
      "text/plain": [
       "<Figure size 640x480 with 2 Axes>"
      ]
     },
     "metadata": {},
     "output_type": "display_data"
    }
   ],
   "source": [
    "# Create figure and add a plot to it\n",
    "fig, ax1 = plt.subplots()\n",
    "\n",
    "# Set colormap\n",
    "cmap = plt.get_cmap('PiYG')\n",
    "\n",
    "# Create contour plot\n",
    "cf = ax1.contourf(x, y, u, cmap=cmap, levels = 21)\n",
    "\n",
    "# Set colorbar\n",
    "fig.colorbar(cf, ax=ax1)\n",
    "\n",
    "# Set title\n",
    "ax1.set_title(f'Solution on a {ni} x {nj} grid')\n",
    "\n",
    "# Set axis labels\n",
    "ax1.set_xlabel('x direction')\n",
    "ax1.set_ylabel('y direction')\n",
    "\n",
    "plt.show()"
   ]
  },
  {
   "cell_type": "markdown",
   "id": "0ff1a488",
   "metadata": {},
   "source": [
    "### Now try with different grid size!\n",
    "\n",
    "If a grid size of $30 \\times 30$ is used, then the A matrix will have 3808 non-zero entries out of 614656, which means that $\\approx$ 99.4% of the A matrix is zero, and thus justifies the use of a sparse matrix, which requires significantly less storage."
   ]
  },
  {
   "cell_type": "code",
   "execution_count": null,
   "id": "d6d797f2",
   "metadata": {},
   "outputs": [],
   "source": []
  }
 ],
 "metadata": {
  "kernelspec": {
   "display_name": "Python 3 (ipykernel)",
   "language": "python",
   "name": "python3"
  },
  "language_info": {
   "codemirror_mode": {
    "name": "ipython",
    "version": 3
   },
   "file_extension": ".py",
   "mimetype": "text/x-python",
   "name": "python",
   "nbconvert_exporter": "python",
   "pygments_lexer": "ipython3",
   "version": "3.9.13"
  }
 },
 "nbformat": 4,
 "nbformat_minor": 5
}
